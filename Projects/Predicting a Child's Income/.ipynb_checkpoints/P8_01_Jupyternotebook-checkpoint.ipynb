{
 "cells": [
  {
   "cell_type": "markdown",
   "id": "679d3ba5",
   "metadata": {},
   "source": [
    "# Project 8 : Making an income prediction\n",
    "\n",
    "**Last updated : 30th July 2022**"
   ]
  },
  {
   "cell_type": "code",
   "execution_count": 1,
   "id": "4fd73669",
   "metadata": {},
   "outputs": [],
   "source": [
    "#Importing packages\n",
    "import matplotlib.pyplot as plt\n",
    "import numpy as np\n",
    "import sklearn as sl\n",
    "import pandas as pd\n",
    "import seaborn as sns\n",
    "#Setting large figure size for Seaborn\n",
    "sns.set(rc={'figure.figsize':(11.7,8.27),\"font.size\":20,\"axes.titlesize\":20,\"axes.labelsize\":18})"
   ]
  },
  {
   "cell_type": "markdown",
   "id": "a35bd8ea",
   "metadata": {},
   "source": [
    "## 1. Loading and cleaning our data"
   ]
  },
  {
   "cell_type": "code",
   "execution_count": 2,
   "id": "bffb77ea",
   "metadata": {},
   "outputs": [
    {
     "data": {
      "text/html": [
       "<div>\n",
       "<style scoped>\n",
       "    .dataframe tbody tr th:only-of-type {\n",
       "        vertical-align: middle;\n",
       "    }\n",
       "\n",
       "    .dataframe tbody tr th {\n",
       "        vertical-align: top;\n",
       "    }\n",
       "\n",
       "    .dataframe thead th {\n",
       "        text-align: right;\n",
       "    }\n",
       "</style>\n",
       "<table border=\"1\" class=\"dataframe\">\n",
       "  <thead>\n",
       "    <tr style=\"text-align: right;\">\n",
       "      <th></th>\n",
       "      <th>Series Name</th>\n",
       "      <th>Series Code</th>\n",
       "      <th>Country Name</th>\n",
       "      <th>Country Code</th>\n",
       "      <th>2000 [YR2000]</th>\n",
       "      <th>2001 [YR2001]</th>\n",
       "      <th>2002 [YR2002]</th>\n",
       "      <th>2003 [YR2003]</th>\n",
       "      <th>2004 [YR2004]</th>\n",
       "      <th>2005 [YR2005]</th>\n",
       "      <th>...</th>\n",
       "      <th>2012 [YR2012]</th>\n",
       "      <th>2013 [YR2013]</th>\n",
       "      <th>2014 [YR2014]</th>\n",
       "      <th>2015 [YR2015]</th>\n",
       "      <th>2016 [YR2016]</th>\n",
       "      <th>2017 [YR2017]</th>\n",
       "      <th>2018 [YR2018]</th>\n",
       "      <th>2019 [YR2019]</th>\n",
       "      <th>2020 [YR2020]</th>\n",
       "      <th>2021 [YR2021]</th>\n",
       "    </tr>\n",
       "  </thead>\n",
       "  <tbody>\n",
       "    <tr>\n",
       "      <th>0</th>\n",
       "      <td>Gini index</td>\n",
       "      <td>SI.POV.GINI</td>\n",
       "      <td>Afghanistan</td>\n",
       "      <td>AFG</td>\n",
       "      <td>NaN</td>\n",
       "      <td>NaN</td>\n",
       "      <td>NaN</td>\n",
       "      <td>NaN</td>\n",
       "      <td>NaN</td>\n",
       "      <td>NaN</td>\n",
       "      <td>...</td>\n",
       "      <td>NaN</td>\n",
       "      <td>NaN</td>\n",
       "      <td>NaN</td>\n",
       "      <td>NaN</td>\n",
       "      <td>NaN</td>\n",
       "      <td>NaN</td>\n",
       "      <td>NaN</td>\n",
       "      <td>NaN</td>\n",
       "      <td>NaN</td>\n",
       "      <td>NaN</td>\n",
       "    </tr>\n",
       "    <tr>\n",
       "      <th>1</th>\n",
       "      <td>Gini index</td>\n",
       "      <td>SI.POV.GINI</td>\n",
       "      <td>Albania</td>\n",
       "      <td>ALB</td>\n",
       "      <td>NaN</td>\n",
       "      <td>NaN</td>\n",
       "      <td>31.7</td>\n",
       "      <td>NaN</td>\n",
       "      <td>NaN</td>\n",
       "      <td>30.6</td>\n",
       "      <td>...</td>\n",
       "      <td>29.0</td>\n",
       "      <td>NaN</td>\n",
       "      <td>34.6</td>\n",
       "      <td>32.8</td>\n",
       "      <td>33.7</td>\n",
       "      <td>33.1</td>\n",
       "      <td>30.1</td>\n",
       "      <td>30.8</td>\n",
       "      <td>NaN</td>\n",
       "      <td>NaN</td>\n",
       "    </tr>\n",
       "    <tr>\n",
       "      <th>2</th>\n",
       "      <td>Gini index</td>\n",
       "      <td>SI.POV.GINI</td>\n",
       "      <td>Algeria</td>\n",
       "      <td>DZA</td>\n",
       "      <td>NaN</td>\n",
       "      <td>NaN</td>\n",
       "      <td>NaN</td>\n",
       "      <td>NaN</td>\n",
       "      <td>NaN</td>\n",
       "      <td>NaN</td>\n",
       "      <td>...</td>\n",
       "      <td>NaN</td>\n",
       "      <td>NaN</td>\n",
       "      <td>NaN</td>\n",
       "      <td>NaN</td>\n",
       "      <td>NaN</td>\n",
       "      <td>NaN</td>\n",
       "      <td>NaN</td>\n",
       "      <td>NaN</td>\n",
       "      <td>NaN</td>\n",
       "      <td>NaN</td>\n",
       "    </tr>\n",
       "    <tr>\n",
       "      <th>3</th>\n",
       "      <td>Gini index</td>\n",
       "      <td>SI.POV.GINI</td>\n",
       "      <td>American Samoa</td>\n",
       "      <td>ASM</td>\n",
       "      <td>NaN</td>\n",
       "      <td>NaN</td>\n",
       "      <td>NaN</td>\n",
       "      <td>NaN</td>\n",
       "      <td>NaN</td>\n",
       "      <td>NaN</td>\n",
       "      <td>...</td>\n",
       "      <td>NaN</td>\n",
       "      <td>NaN</td>\n",
       "      <td>NaN</td>\n",
       "      <td>NaN</td>\n",
       "      <td>NaN</td>\n",
       "      <td>NaN</td>\n",
       "      <td>NaN</td>\n",
       "      <td>NaN</td>\n",
       "      <td>NaN</td>\n",
       "      <td>NaN</td>\n",
       "    </tr>\n",
       "    <tr>\n",
       "      <th>4</th>\n",
       "      <td>Gini index</td>\n",
       "      <td>SI.POV.GINI</td>\n",
       "      <td>Andorra</td>\n",
       "      <td>AND</td>\n",
       "      <td>NaN</td>\n",
       "      <td>NaN</td>\n",
       "      <td>NaN</td>\n",
       "      <td>NaN</td>\n",
       "      <td>NaN</td>\n",
       "      <td>NaN</td>\n",
       "      <td>...</td>\n",
       "      <td>NaN</td>\n",
       "      <td>NaN</td>\n",
       "      <td>NaN</td>\n",
       "      <td>NaN</td>\n",
       "      <td>NaN</td>\n",
       "      <td>NaN</td>\n",
       "      <td>NaN</td>\n",
       "      <td>NaN</td>\n",
       "      <td>NaN</td>\n",
       "      <td>NaN</td>\n",
       "    </tr>\n",
       "  </tbody>\n",
       "</table>\n",
       "<p>5 rows × 26 columns</p>\n",
       "</div>"
      ],
      "text/plain": [
       "  Series Name  Series Code    Country Name Country Code  2000 [YR2000]  \\\n",
       "0  Gini index  SI.POV.GINI     Afghanistan          AFG            NaN   \n",
       "1  Gini index  SI.POV.GINI         Albania          ALB            NaN   \n",
       "2  Gini index  SI.POV.GINI         Algeria          DZA            NaN   \n",
       "3  Gini index  SI.POV.GINI  American Samoa          ASM            NaN   \n",
       "4  Gini index  SI.POV.GINI         Andorra          AND            NaN   \n",
       "\n",
       "   2001 [YR2001]  2002 [YR2002]  2003 [YR2003]  2004 [YR2004]  2005 [YR2005]  \\\n",
       "0            NaN            NaN            NaN            NaN            NaN   \n",
       "1            NaN           31.7            NaN            NaN           30.6   \n",
       "2            NaN            NaN            NaN            NaN            NaN   \n",
       "3            NaN            NaN            NaN            NaN            NaN   \n",
       "4            NaN            NaN            NaN            NaN            NaN   \n",
       "\n",
       "   ...  2012 [YR2012]  2013 [YR2013]  2014 [YR2014]  2015 [YR2015]  \\\n",
       "0  ...            NaN            NaN            NaN            NaN   \n",
       "1  ...           29.0            NaN           34.6           32.8   \n",
       "2  ...            NaN            NaN            NaN            NaN   \n",
       "3  ...            NaN            NaN            NaN            NaN   \n",
       "4  ...            NaN            NaN            NaN            NaN   \n",
       "\n",
       "   2016 [YR2016]  2017 [YR2017]  2018 [YR2018]  2019 [YR2019]  2020 [YR2020]  \\\n",
       "0            NaN            NaN            NaN            NaN            NaN   \n",
       "1           33.7           33.1           30.1           30.8            NaN   \n",
       "2            NaN            NaN            NaN            NaN            NaN   \n",
       "3            NaN            NaN            NaN            NaN            NaN   \n",
       "4            NaN            NaN            NaN            NaN            NaN   \n",
       "\n",
       "   2021 [YR2021]  \n",
       "0            NaN  \n",
       "1            NaN  \n",
       "2            NaN  \n",
       "3            NaN  \n",
       "4            NaN  \n",
       "\n",
       "[5 rows x 26 columns]"
      ]
     },
     "execution_count": 2,
     "metadata": {},
     "output_type": "execute_result"
    }
   ],
   "source": [
    "#We have to specify na values for the gini dataset\n",
    "gini = pd.read_csv(\"Data/gini_index.csv\", na_values = \"..\")\n",
    "pop = pd.read_csv(\"Data/population.csv\", na_values = \"..\")\n",
    "\n",
    "gini.head()"
   ]
  },
  {
   "cell_type": "markdown",
   "id": "2b85c7d6",
   "metadata": {},
   "source": [
    "The income file can't be imported simply into Python, income = pd.read_csv(\"Data/income_distribution.csv\") fails.\n",
    "\n",
    "The reason is that there is a decimal separator in the PPP income numbers which breaks the csv import algorithm\n",
    "\n",
    "### 1.1 Fixing the income distribution csv file"
   ]
  },
  {
   "cell_type": "code",
   "execution_count": 3,
   "id": "ee21a0d9",
   "metadata": {},
   "outputs": [
    {
     "data": {
      "text/html": [
       "<div>\n",
       "<style scoped>\n",
       "    .dataframe tbody tr th:only-of-type {\n",
       "        vertical-align: middle;\n",
       "    }\n",
       "\n",
       "    .dataframe tbody tr th {\n",
       "        vertical-align: top;\n",
       "    }\n",
       "\n",
       "    .dataframe thead th {\n",
       "        text-align: right;\n",
       "    }\n",
       "</style>\n",
       "<table border=\"1\" class=\"dataframe\">\n",
       "  <thead>\n",
       "    <tr style=\"text-align: right;\">\n",
       "      <th></th>\n",
       "      <th>country_code</th>\n",
       "      <th>year</th>\n",
       "      <th>quantile</th>\n",
       "      <th>nb_quantiles</th>\n",
       "      <th>income</th>\n",
       "      <th>gdpppp</th>\n",
       "    </tr>\n",
       "  </thead>\n",
       "  <tbody>\n",
       "    <tr>\n",
       "      <th>0</th>\n",
       "      <td>ALB</td>\n",
       "      <td>2008</td>\n",
       "      <td>1</td>\n",
       "      <td>100</td>\n",
       "      <td>728.89795</td>\n",
       "      <td>7297</td>\n",
       "    </tr>\n",
       "    <tr>\n",
       "      <th>1</th>\n",
       "      <td>ALB</td>\n",
       "      <td>2008</td>\n",
       "      <td>2</td>\n",
       "      <td>100</td>\n",
       "      <td>916.66235</td>\n",
       "      <td>7297</td>\n",
       "    </tr>\n",
       "    <tr>\n",
       "      <th>2</th>\n",
       "      <td>ALB</td>\n",
       "      <td>2008</td>\n",
       "      <td>3</td>\n",
       "      <td>100</td>\n",
       "      <td>1010.916</td>\n",
       "      <td>7297</td>\n",
       "    </tr>\n",
       "    <tr>\n",
       "      <th>3</th>\n",
       "      <td>ALB</td>\n",
       "      <td>2008</td>\n",
       "      <td>4</td>\n",
       "      <td>100</td>\n",
       "      <td>1086.9078</td>\n",
       "      <td>7297</td>\n",
       "    </tr>\n",
       "    <tr>\n",
       "      <th>4</th>\n",
       "      <td>ALB</td>\n",
       "      <td>2008</td>\n",
       "      <td>5</td>\n",
       "      <td>100</td>\n",
       "      <td>1132.6997</td>\n",
       "      <td>7297</td>\n",
       "    </tr>\n",
       "  </tbody>\n",
       "</table>\n",
       "</div>"
      ],
      "text/plain": [
       "  country_code  year quantile nb_quantiles     income gdpppp\n",
       "0          ALB  2008        1          100  728.89795   7297\n",
       "1          ALB  2008        2          100  916.66235   7297\n",
       "2          ALB  2008        3          100   1010.916   7297\n",
       "3          ALB  2008        4          100  1086.9078   7297\n",
       "4          ALB  2008        5          100  1132.6997   7297"
      ]
     },
     "execution_count": 3,
     "metadata": {},
     "output_type": "execute_result"
    }
   ],
   "source": [
    "import csv\n",
    "\n",
    "#Opening csv file\n",
    "file = open(\"Data/income_distribution.csv\")\n",
    "\n",
    "#Reading our csv file using csv.reader\n",
    "csvreader = csv.reader(file, quotechar = \"'\")\n",
    "\n",
    "#Generating an empty array of rows\n",
    "rows = []\n",
    "for row in csvreader:\n",
    "    for i in range(len(row)):\n",
    "        #Replacing extra quote signs\n",
    "        row[i] = row[i].replace('\"','')\n",
    "    if len(row) == 7:\n",
    "        #Aggregating rows 4 and 5 which should be separated by a dot and not a comma\n",
    "        row[4] = row[4] + '.' + row[5]\n",
    "        #Replacing our now useless fifth row with the information from the last row\n",
    "        row[5] = row[6]\n",
    "        #Removing the last element of our list that has been copied to row[5]\n",
    "        row.pop()\n",
    "        #Appending the row to our list of lists (rows)\n",
    "        rows.append(row)\n",
    "\n",
    "#Creating a dataframe from our list of lists\n",
    "income = pd.DataFrame(rows, columns = ['country_code','year','quantile','nb_quantiles','income','gdpppp'])\n",
    "\n",
    "\n",
    "income.head()"
   ]
  },
  {
   "cell_type": "markdown",
   "id": "95cdf53a",
   "metadata": {},
   "source": [
    "### 1.2 Cleaning the income dataset"
   ]
  },
  {
   "cell_type": "code",
   "execution_count": 4,
   "id": "b24caeb4",
   "metadata": {},
   "outputs": [
    {
     "name": "stdout",
     "output_type": "stream",
     "text": [
      "country_code     object\n",
      "year              int64\n",
      "quantile          int64\n",
      "nb_quantiles      int64\n",
      "income          float64\n",
      "gdpppp          float64\n",
      "dtype: object\n"
     ]
    },
    {
     "data": {
      "text/html": [
       "<div>\n",
       "<style scoped>\n",
       "    .dataframe tbody tr th:only-of-type {\n",
       "        vertical-align: middle;\n",
       "    }\n",
       "\n",
       "    .dataframe tbody tr th {\n",
       "        vertical-align: top;\n",
       "    }\n",
       "\n",
       "    .dataframe thead th {\n",
       "        text-align: right;\n",
       "    }\n",
       "</style>\n",
       "<table border=\"1\" class=\"dataframe\">\n",
       "  <thead>\n",
       "    <tr style=\"text-align: right;\">\n",
       "      <th></th>\n",
       "      <th>country_code</th>\n",
       "      <th>year</th>\n",
       "      <th>quantile</th>\n",
       "      <th>nb_quantiles</th>\n",
       "      <th>income</th>\n",
       "      <th>gdpppp</th>\n",
       "    </tr>\n",
       "  </thead>\n",
       "  <tbody>\n",
       "    <tr>\n",
       "      <th>0</th>\n",
       "      <td>ALB</td>\n",
       "      <td>2008</td>\n",
       "      <td>1</td>\n",
       "      <td>100</td>\n",
       "      <td>728.89795</td>\n",
       "      <td>7297.0</td>\n",
       "    </tr>\n",
       "    <tr>\n",
       "      <th>1</th>\n",
       "      <td>ALB</td>\n",
       "      <td>2008</td>\n",
       "      <td>2</td>\n",
       "      <td>100</td>\n",
       "      <td>916.66235</td>\n",
       "      <td>7297.0</td>\n",
       "    </tr>\n",
       "    <tr>\n",
       "      <th>2</th>\n",
       "      <td>ALB</td>\n",
       "      <td>2008</td>\n",
       "      <td>3</td>\n",
       "      <td>100</td>\n",
       "      <td>1010.91600</td>\n",
       "      <td>7297.0</td>\n",
       "    </tr>\n",
       "    <tr>\n",
       "      <th>3</th>\n",
       "      <td>ALB</td>\n",
       "      <td>2008</td>\n",
       "      <td>4</td>\n",
       "      <td>100</td>\n",
       "      <td>1086.90780</td>\n",
       "      <td>7297.0</td>\n",
       "    </tr>\n",
       "    <tr>\n",
       "      <th>4</th>\n",
       "      <td>ALB</td>\n",
       "      <td>2008</td>\n",
       "      <td>5</td>\n",
       "      <td>100</td>\n",
       "      <td>1132.69970</td>\n",
       "      <td>7297.0</td>\n",
       "    </tr>\n",
       "  </tbody>\n",
       "</table>\n",
       "</div>"
      ],
      "text/plain": [
       "  country_code  year  quantile  nb_quantiles      income  gdpppp\n",
       "0          ALB  2008         1           100   728.89795  7297.0\n",
       "1          ALB  2008         2           100   916.66235  7297.0\n",
       "2          ALB  2008         3           100  1010.91600  7297.0\n",
       "3          ALB  2008         4           100  1086.90780  7297.0\n",
       "4          ALB  2008         5           100  1132.69970  7297.0"
      ]
     },
     "execution_count": 4,
     "metadata": {},
     "output_type": "execute_result"
    }
   ],
   "source": [
    "#Converting columns to their correct types\n",
    "income[\"country_code\"] = income[\"country_code\"].apply(str)\n",
    "income[\"year\"] = pd.to_numeric(income[\"year\"])\n",
    "income[\"quantile\"] = pd.to_numeric(income[\"quantile\"])\n",
    "income[\"nb_quantiles\"] = pd.to_numeric(income[\"nb_quantiles\"])\n",
    "income[\"income\"] = pd.to_numeric(income[\"income\"])\n",
    "income[\"gdpppp\"] = pd.to_numeric(income[\"gdpppp\"])\n",
    "\n",
    "print(income.dtypes)\n",
    "income.head()"
   ]
  },
  {
   "cell_type": "code",
   "execution_count": 5,
   "id": "76d710a2",
   "metadata": {},
   "outputs": [
    {
     "name": "stdout",
     "output_type": "stream",
     "text": [
      "<class 'pandas.core.frame.DataFrame'>\n",
      "RangeIndex: 10493 entries, 0 to 10492\n",
      "Data columns (total 6 columns):\n",
      " #   Column        Non-Null Count  Dtype  \n",
      "---  ------        --------------  -----  \n",
      " 0   country_code  10493 non-null  object \n",
      " 1   year          10493 non-null  int64  \n",
      " 2   quantile      10493 non-null  int64  \n",
      " 3   nb_quantiles  10493 non-null  int64  \n",
      " 4   income        10493 non-null  float64\n",
      " 5   gdpppp        10294 non-null  float64\n",
      "dtypes: float64(2), int64(3), object(1)\n",
      "memory usage: 492.0+ KB\n",
      "<class 'pandas.core.frame.DataFrame'>\n",
      "Int64Index: 10393 entries, 0 to 10492\n",
      "Data columns (total 6 columns):\n",
      " #   Column        Non-Null Count  Dtype  \n",
      "---  ------        --------------  -----  \n",
      " 0   country_code  10393 non-null  object \n",
      " 1   year          10393 non-null  int64  \n",
      " 2   quantile      10393 non-null  int64  \n",
      " 3   nb_quantiles  10393 non-null  int64  \n",
      " 4   income        10393 non-null  float64\n",
      " 5   gdpppp        10393 non-null  float64\n",
      "dtypes: float64(2), int64(3), object(1)\n",
      "memory usage: 568.4+ KB\n"
     ]
    },
    {
     "data": {
      "text/html": [
       "<div>\n",
       "<style scoped>\n",
       "    .dataframe tbody tr th:only-of-type {\n",
       "        vertical-align: middle;\n",
       "    }\n",
       "\n",
       "    .dataframe tbody tr th {\n",
       "        vertical-align: top;\n",
       "    }\n",
       "\n",
       "    .dataframe thead th {\n",
       "        text-align: right;\n",
       "    }\n",
       "</style>\n",
       "<table border=\"1\" class=\"dataframe\">\n",
       "  <thead>\n",
       "    <tr style=\"text-align: right;\">\n",
       "      <th></th>\n",
       "      <th>year</th>\n",
       "      <th>quantile</th>\n",
       "      <th>nb_quantiles</th>\n",
       "      <th>income</th>\n",
       "      <th>gdpppp</th>\n",
       "    </tr>\n",
       "  </thead>\n",
       "  <tbody>\n",
       "    <tr>\n",
       "      <th>count</th>\n",
       "      <td>10393.000000</td>\n",
       "      <td>10393.000000</td>\n",
       "      <td>10393.0</td>\n",
       "      <td>10393.000000</td>\n",
       "      <td>1.039300e+04</td>\n",
       "    </tr>\n",
       "    <tr>\n",
       "      <th>mean</th>\n",
       "      <td>2007.951794</td>\n",
       "      <td>50.490330</td>\n",
       "      <td>100.0</td>\n",
       "      <td>6620.495240</td>\n",
       "      <td>5.491723e+04</td>\n",
       "    </tr>\n",
       "    <tr>\n",
       "      <th>std</th>\n",
       "      <td>0.848109</td>\n",
       "      <td>28.859124</td>\n",
       "      <td>0.0</td>\n",
       "      <td>9738.343059</td>\n",
       "      <td>4.186871e+05</td>\n",
       "    </tr>\n",
       "    <tr>\n",
       "      <th>min</th>\n",
       "      <td>2004.000000</td>\n",
       "      <td>1.000000</td>\n",
       "      <td>100.0</td>\n",
       "      <td>16.719418</td>\n",
       "      <td>3.720000e+02</td>\n",
       "    </tr>\n",
       "    <tr>\n",
       "      <th>25%</th>\n",
       "      <td>2008.000000</td>\n",
       "      <td>25.000000</td>\n",
       "      <td>100.0</td>\n",
       "      <td>1055.110000</td>\n",
       "      <td>3.240000e+03</td>\n",
       "    </tr>\n",
       "    <tr>\n",
       "      <th>50%</th>\n",
       "      <td>2008.000000</td>\n",
       "      <td>50.000000</td>\n",
       "      <td>100.0</td>\n",
       "      <td>2875.320600</td>\n",
       "      <td>9.559000e+03</td>\n",
       "    </tr>\n",
       "    <tr>\n",
       "      <th>75%</th>\n",
       "      <td>2008.000000</td>\n",
       "      <td>75.000000</td>\n",
       "      <td>100.0</td>\n",
       "      <td>8558.057000</td>\n",
       "      <td>2.051500e+04</td>\n",
       "    </tr>\n",
       "    <tr>\n",
       "      <th>max</th>\n",
       "      <td>2011.000000</td>\n",
       "      <td>100.000000</td>\n",
       "      <td>100.0</td>\n",
       "      <td>176928.550000</td>\n",
       "      <td>4.300332e+06</td>\n",
       "    </tr>\n",
       "  </tbody>\n",
       "</table>\n",
       "</div>"
      ],
      "text/plain": [
       "               year      quantile  nb_quantiles         income        gdpppp\n",
       "count  10393.000000  10393.000000       10393.0   10393.000000  1.039300e+04\n",
       "mean    2007.951794     50.490330         100.0    6620.495240  5.491723e+04\n",
       "std        0.848109     28.859124           0.0    9738.343059  4.186871e+05\n",
       "min     2004.000000      1.000000         100.0      16.719418  3.720000e+02\n",
       "25%     2008.000000     25.000000         100.0    1055.110000  3.240000e+03\n",
       "50%     2008.000000     50.000000         100.0    2875.320600  9.559000e+03\n",
       "75%     2008.000000     75.000000         100.0    8558.057000  2.051500e+04\n",
       "max     2011.000000    100.000000         100.0  176928.550000  4.300332e+06"
      ]
     },
     "execution_count": 5,
     "metadata": {},
     "output_type": "execute_result"
    }
   ],
   "source": [
    "income.info()\n",
    "\n",
    "#GDP values for 2 countries is null : XKX and PSE ==> Kosovo and Palestinian territory\n",
    "income[income[\"gdpppp\"].isna()].country_code.unique()\n",
    "\n",
    "#The missing data is for Kosovo is in 2008\n",
    "income[income.country_code.isin([\"XKX\"])].year.unique()\n",
    "\n",
    "#The missing data is for Palestinian territory is in 2009\n",
    "income[income.country_code.isin([\"PSE\"])].year.unique()\n",
    "\n",
    "#Let's get these data points from the worldbank databank\n",
    "#GDP PPP for Kosovo in 2008 is 6545.4\n",
    "income.loc[income.country_code == \"XKX\",\"gdpppp\"] = 6545.4 \n",
    "\n",
    "#We are unable to retrieve Palestine territory data because it's not officially a country\n",
    "#We will remove it from our dataset.\n",
    "income = income[income.country_code != \"PSE\"]\n",
    "\n",
    "income.info()\n",
    "income.describe()"
   ]
  },
  {
   "cell_type": "markdown",
   "id": "257721ec",
   "metadata": {},
   "source": [
    "### 1.3 Filling missing quantiles"
   ]
  },
  {
   "cell_type": "code",
   "execution_count": 6,
   "id": "1c2a4742",
   "metadata": {},
   "outputs": [
    {
     "data": {
      "text/html": [
       "<div>\n",
       "<style scoped>\n",
       "    .dataframe tbody tr th:only-of-type {\n",
       "        vertical-align: middle;\n",
       "    }\n",
       "\n",
       "    .dataframe tbody tr th {\n",
       "        vertical-align: top;\n",
       "    }\n",
       "\n",
       "    .dataframe thead th {\n",
       "        text-align: right;\n",
       "    }\n",
       "</style>\n",
       "<table border=\"1\" class=\"dataframe\">\n",
       "  <thead>\n",
       "    <tr style=\"text-align: right;\">\n",
       "      <th></th>\n",
       "      <th>country_code</th>\n",
       "      <th>year_</th>\n",
       "      <th>gdpppp_</th>\n",
       "      <th>nb_quantiles_</th>\n",
       "      <th>quantile</th>\n",
       "    </tr>\n",
       "  </thead>\n",
       "  <tbody>\n",
       "    <tr>\n",
       "      <th>0</th>\n",
       "      <td>LTU</td>\n",
       "      <td>2008</td>\n",
       "      <td>17571.0</td>\n",
       "      <td>100</td>\n",
       "      <td>100</td>\n",
       "    </tr>\n",
       "    <tr>\n",
       "      <th>1</th>\n",
       "      <td>MKD</td>\n",
       "      <td>2008</td>\n",
       "      <td>8809.0</td>\n",
       "      <td>100</td>\n",
       "      <td>100</td>\n",
       "    </tr>\n",
       "    <tr>\n",
       "      <th>2</th>\n",
       "      <td>NIC</td>\n",
       "      <td>2009</td>\n",
       "      <td>2576.0</td>\n",
       "      <td>100</td>\n",
       "      <td>100</td>\n",
       "    </tr>\n",
       "    <tr>\n",
       "      <th>3</th>\n",
       "      <td>NLD</td>\n",
       "      <td>2008</td>\n",
       "      <td>38065.0</td>\n",
       "      <td>100</td>\n",
       "      <td>100</td>\n",
       "    </tr>\n",
       "    <tr>\n",
       "      <th>4</th>\n",
       "      <td>SRB</td>\n",
       "      <td>2008</td>\n",
       "      <td>10234.0</td>\n",
       "      <td>100</td>\n",
       "      <td>100</td>\n",
       "    </tr>\n",
       "    <tr>\n",
       "      <th>...</th>\n",
       "      <td>...</td>\n",
       "      <td>...</td>\n",
       "      <td>...</td>\n",
       "      <td>...</td>\n",
       "      <td>...</td>\n",
       "    </tr>\n",
       "    <tr>\n",
       "      <th>695</th>\n",
       "      <td>XKX</td>\n",
       "      <td>2008</td>\n",
       "      <td>6545.4</td>\n",
       "      <td>100</td>\n",
       "      <td>95</td>\n",
       "    </tr>\n",
       "    <tr>\n",
       "      <th>696</th>\n",
       "      <td>XKX</td>\n",
       "      <td>2008</td>\n",
       "      <td>6545.4</td>\n",
       "      <td>100</td>\n",
       "      <td>96</td>\n",
       "    </tr>\n",
       "    <tr>\n",
       "      <th>697</th>\n",
       "      <td>XKX</td>\n",
       "      <td>2008</td>\n",
       "      <td>6545.4</td>\n",
       "      <td>100</td>\n",
       "      <td>97</td>\n",
       "    </tr>\n",
       "    <tr>\n",
       "      <th>698</th>\n",
       "      <td>XKX</td>\n",
       "      <td>2008</td>\n",
       "      <td>6545.4</td>\n",
       "      <td>100</td>\n",
       "      <td>98</td>\n",
       "    </tr>\n",
       "    <tr>\n",
       "      <th>699</th>\n",
       "      <td>XKX</td>\n",
       "      <td>2008</td>\n",
       "      <td>6545.4</td>\n",
       "      <td>100</td>\n",
       "      <td>99</td>\n",
       "    </tr>\n",
       "  </tbody>\n",
       "</table>\n",
       "<p>700 rows × 5 columns</p>\n",
       "</div>"
      ],
      "text/plain": [
       "    country_code  year_  gdpppp_  nb_quantiles_  quantile\n",
       "0            LTU   2008  17571.0            100       100\n",
       "1            MKD   2008   8809.0            100       100\n",
       "2            NIC   2009   2576.0            100       100\n",
       "3            NLD   2008  38065.0            100       100\n",
       "4            SRB   2008  10234.0            100       100\n",
       "..           ...    ...      ...            ...       ...\n",
       "695          XKX   2008   6545.4            100        95\n",
       "696          XKX   2008   6545.4            100        96\n",
       "697          XKX   2008   6545.4            100        97\n",
       "698          XKX   2008   6545.4            100        98\n",
       "699          XKX   2008   6545.4            100        99\n",
       "\n",
       "[700 rows x 5 columns]"
      ]
     },
     "execution_count": 6,
     "metadata": {},
     "output_type": "execute_result"
    }
   ],
   "source": [
    "#It seems that some quantile data is missing because we would expect the quantile mean to be exactly 50.5\n",
    "subset = income.groupby(\"country_code\").mean().reset_index().sort_values(by=\"quantile\")\n",
    "\n",
    "countries = subset[subset[\"quantile\"] != 50.5][\"country_code\"].unique()\n",
    "#7 countries have missing quantile data, which explains why our total number of rows is not divisible by 100 (10393)\n",
    "\n",
    "#Creating a subset with all the data of countries with missing quantiles\n",
    "subset = income[income[\"country_code\"].isin(countries)]\n",
    "\n",
    "#Our number of quantiles (sum) is equal to 9900, which means that one quantile is missing by country\n",
    "#We add an underscore below the column names to prepare for a join and prevent duplicate row names\n",
    "sum_df = subset.groupby(\"country_code\").agg(year_ =  ('year','max'), nb_quantiles_ = ('nb_quantiles','max'),\n",
    "                                            gdpppp_ = ('gdpppp','max'), income = ('income','sum'), quantile = ('quantile','sum')).reset_index()\n",
    " \n",
    "\n",
    "#Keeping only relevant values\n",
    "sum_df = sum_df[[\"country_code\",\"year_\",\"gdpppp_\",\"nb_quantiles_\"]]\n",
    "\n",
    "#Adding a quantile column\n",
    "sum_df[\"quantile\"] = 100\n",
    "\n",
    "#Creating a new dataframe before our iteration\n",
    "new_df = sum_df\n",
    "#We first iterate over our aggregated dataframe\n",
    "for i in range(len(sum_df)):\n",
    "    #We then iterate over all numbers from 1 to 99 (since quantile = 100 has already been attributed above)\n",
    "    for x in range(1,100):\n",
    "        #We then add columns with the same data from sum_df but with a different quantile\n",
    "        new_df = pd.concat([new_df,sum_df.loc[[i]].assign(**{'quantile': x})], ignore_index=True)\n",
    "\n",
    "#The final result is a new dataframe with 100 rows with each country with missing quantiles, each with a different quantile from 1 to 100\n",
    "new_df"
   ]
  },
  {
   "cell_type": "code",
   "execution_count": 7,
   "id": "116a8689",
   "metadata": {},
   "outputs": [
    {
     "name": "stdout",
     "output_type": "stream",
     "text": [
      "      index country_code    year  quantile  nb_quantiles  income   gdpppp  \\\n",
      "7199  10393          NLD  2008.0       100         100.0     NaN  38065.0   \n",
      "\n",
      "       year_  gdpppp_  nb_quantiles_  prev_income  next_income  \n",
      "7199  2008.0  38065.0          100.0    52226.574          NaN  \n"
     ]
    }
   ],
   "source": [
    "#Joining our tables with the new table created, this will create empty rows where the quantiles were missing\n",
    "df = income.merge(new_df, on=[\"country_code\",\"quantile\"], how=\"outer\")\n",
    "\n",
    "#Filling the data from our missing data from the one gathered from our previous table\n",
    "df.loc[df.year.isna(),\"year\"] = df[\"year_\"]\n",
    "df.loc[df.nb_quantiles.isna(),\"nb_quantiles\"] = 100\n",
    "df.loc[df.gdpppp.isna(),\"gdpppp\"] = df[\"gdpppp_\"]\n",
    "\n",
    "#Creating a previous income column\n",
    "df[\"prev_income\"] = np.nan\n",
    "df[\"next_income\"] = np.nan\n",
    "\n",
    "#Sorting our values by country code and quantile to prepare for iteration\n",
    "df = df.sort_values(by = [\"country_code\",\"quantile\"]).reset_index()\n",
    "\n",
    "#Iterating over the whole database\n",
    "for i in range(len(df)):\n",
    "    #Restricting so the query won't run if the quantile is equal to 1 (so that it won't take data from another country)\n",
    "    if df.loc[i,\"quantile\"] != 1:\n",
    "        #Assigning within the prev_income column the income for the previous quantile\n",
    "        df.loc[i, \"prev_income\"] = df.loc[i-1, \"income\"]\n",
    "    if df.loc[i,\"quantile\"] != 100:\n",
    "        df.loc[i, \"next_income\"] = df.loc[i+1,\"income\"]\n",
    "\n",
    "#Where income is na (the 7 columns we added), we replace the quantile income with the average from the next and previous incomes    \n",
    "df.loc[df[\"income\"].isna(), \"income\"] = (df[\"prev_income\"] + df[\"next_income\"])/2\n",
    "\n",
    "print(df[df.income.isna()])\n",
    "#We have however an edge case where we have missing data on the 100th quantile\n",
    "\n",
    "#We could add to the previous income a proportion of the previous income divided by the previous number of quantiles \n",
    "#df.loc[df[\"income\"].isna(), \"income\"] = df[\"prev_income\"] + df[\"prev_income\"]/(df[\"quantile\"]-1)\n",
    "\n",
    "#However this does not work well since the income distribution is not linear especially not at the extremity\n",
    "#We will study the data for NLD that has the missing data in the 100th quantile"
   ]
  },
  {
   "cell_type": "code",
   "execution_count": 8,
   "id": "096eab90",
   "metadata": {},
   "outputs": [
    {
     "data": {
      "image/png": "[encoded data removed]",
      "text/plain": [
       "<Figure size 842.4x595.44 with 1 Axes>"
      ]
     },
     "metadata": {},
     "output_type": "display_data"
    },
    {
     "data": {
      "image/png": "[encoded data removed]",
      "text/plain": [
       "<Figure size 842.4x595.44 with 1 Axes>"
      ]
     },
     "metadata": {},
     "output_type": "display_data"
    },
    {
     "name": "stdout",
     "output_type": "stream",
     "text": [
      "<class 'pandas.core.frame.DataFrame'>\n",
      "RangeIndex: 10400 entries, 0 to 10399\n",
      "Data columns (total 12 columns):\n",
      " #   Column         Non-Null Count  Dtype  \n",
      "---  ------         --------------  -----  \n",
      " 0   index          10400 non-null  int64  \n",
      " 1   country_code   10400 non-null  object \n",
      " 2   year           10400 non-null  float64\n",
      " 3   quantile       10400 non-null  int64  \n",
      " 4   nb_quantiles   10400 non-null  float64\n",
      " 5   income         10400 non-null  float64\n",
      " 6   gdpppp         10400 non-null  float64\n",
      " 7   year_          700 non-null    float64\n",
      " 8   gdpppp_        700 non-null    float64\n",
      " 9   nb_quantiles_  700 non-null    float64\n",
      " 10  prev_income    10290 non-null  float64\n",
      " 11  next_income    10289 non-null  float64\n",
      "dtypes: float64(9), int64(2), object(1)\n",
      "memory usage: 975.1+ KB\n"
     ]
    }
   ],
   "source": [
    "#Creating a subset with only NLD values\n",
    "nld_df = df[df.country_code==\"NLD\"].copy().drop(columns=[\"index\"])\n",
    "\n",
    "nld_df = nld_df[[\"quantile\",\"income\"]]\n",
    "\n",
    "#We can see that the curve is far from linear\n",
    "nld_df.plot(x=\"quantile\",y=\"income\")\n",
    "plt.show()\n",
    "\n",
    "#We are interested in the 100th quantile so we will restrict the data to only quantiles 90 and above\n",
    "nld_df = nld_df.loc[nld_df[\"quantile\"] >= 90]\n",
    "\n",
    "#Using only columns with valid info to generate the regression\n",
    "X = nld_df[~nld_df.income.isna()][\"quantile\"].values.reshape(-1,1)\n",
    "Y = nld_df[~nld_df.income.isna()][\"income\"]\n",
    "\n",
    "#Importing Polynomial and Linear Regressions\n",
    "from sklearn.preprocessing import PolynomialFeatures\n",
    "from sklearn.linear_model import LinearRegression\n",
    "\n",
    "#We choose a degree of 4\n",
    "poly_reg = PolynomialFeatures(degree=4)\n",
    "\n",
    "#Creating X_poly array to prepare for polynomial regression\n",
    "X_poly = poly_reg.fit_transform(X)\n",
    "\n",
    "#Creating our polynomial regression and fitting it to our data\n",
    "pol_reg = LinearRegression()\n",
    "pol_reg.fit(X_poly,Y)\n",
    "\n",
    "#Creating a plot showing our regression vs the actual data\n",
    "plt.scatter(X, Y, color='red')\n",
    "plt.plot(X, pol_reg.predict(poly_reg.fit_transform(X)), color='blue')\n",
    "plt.show()\n",
    "\n",
    "#Filling the missing data with the number found through polynomial regression : \n",
    "df.loc[df.income.isna(),\"income\"] = pol_reg.predict(poly_reg.fit_transform([[100]]))[0]\n",
    "\n",
    "df.info()\n",
    "#Our dataframe is complete!"
   ]
  },
  {
   "cell_type": "code",
   "execution_count": 9,
   "id": "9a1b8a82",
   "metadata": {},
   "outputs": [
    {
     "name": "stdout",
     "output_type": "stream",
     "text": [
      "<class 'pandas.core.frame.DataFrame'>\n",
      "RangeIndex: 10400 entries, 0 to 10399\n",
      "Data columns (total 5 columns):\n",
      " #   Column        Non-Null Count  Dtype  \n",
      "---  ------        --------------  -----  \n",
      " 0   country_code  10400 non-null  object \n",
      " 1   year          10400 non-null  float64\n",
      " 2   quantile      10400 non-null  int64  \n",
      " 3   income        10400 non-null  float64\n",
      " 4   gdpppp        10400 non-null  float64\n",
      "dtypes: float64(3), int64(1), object(1)\n",
      "memory usage: 406.4+ KB\n"
     ]
    },
    {
     "data": {
      "text/html": [
       "<div>\n",
       "<style scoped>\n",
       "    .dataframe tbody tr th:only-of-type {\n",
       "        vertical-align: middle;\n",
       "    }\n",
       "\n",
       "    .dataframe tbody tr th {\n",
       "        vertical-align: top;\n",
       "    }\n",
       "\n",
       "    .dataframe thead th {\n",
       "        text-align: right;\n",
       "    }\n",
       "</style>\n",
       "<table border=\"1\" class=\"dataframe\">\n",
       "  <thead>\n",
       "    <tr style=\"text-align: right;\">\n",
       "      <th></th>\n",
       "      <th>country_code</th>\n",
       "      <th>year</th>\n",
       "      <th>quantile</th>\n",
       "      <th>income</th>\n",
       "      <th>gdpppp</th>\n",
       "    </tr>\n",
       "  </thead>\n",
       "  <tbody>\n",
       "    <tr>\n",
       "      <th>0</th>\n",
       "      <td>ALB</td>\n",
       "      <td>2008.0</td>\n",
       "      <td>1</td>\n",
       "      <td>728.89795</td>\n",
       "      <td>7297.0</td>\n",
       "    </tr>\n",
       "    <tr>\n",
       "      <th>1</th>\n",
       "      <td>ALB</td>\n",
       "      <td>2008.0</td>\n",
       "      <td>2</td>\n",
       "      <td>916.66235</td>\n",
       "      <td>7297.0</td>\n",
       "    </tr>\n",
       "    <tr>\n",
       "      <th>2</th>\n",
       "      <td>ALB</td>\n",
       "      <td>2008.0</td>\n",
       "      <td>3</td>\n",
       "      <td>1010.91600</td>\n",
       "      <td>7297.0</td>\n",
       "    </tr>\n",
       "    <tr>\n",
       "      <th>3</th>\n",
       "      <td>ALB</td>\n",
       "      <td>2008.0</td>\n",
       "      <td>4</td>\n",
       "      <td>1086.90780</td>\n",
       "      <td>7297.0</td>\n",
       "    </tr>\n",
       "    <tr>\n",
       "      <th>4</th>\n",
       "      <td>ALB</td>\n",
       "      <td>2008.0</td>\n",
       "      <td>5</td>\n",
       "      <td>1132.69970</td>\n",
       "      <td>7297.0</td>\n",
       "    </tr>\n",
       "  </tbody>\n",
       "</table>\n",
       "</div>"
      ],
      "text/plain": [
       "  country_code    year  quantile      income  gdpppp\n",
       "0          ALB  2008.0         1   728.89795  7297.0\n",
       "1          ALB  2008.0         2   916.66235  7297.0\n",
       "2          ALB  2008.0         3  1010.91600  7297.0\n",
       "3          ALB  2008.0         4  1086.90780  7297.0\n",
       "4          ALB  2008.0         5  1132.69970  7297.0"
      ]
     },
     "execution_count": 9,
     "metadata": {},
     "output_type": "execute_result"
    }
   ],
   "source": [
    "#Updating our income dataframe with the relevant columns from our DataFrame\n",
    "#We have deleted the nb_quantiles column since we have verified that all countries have 100 quantiles\n",
    "income = df[[\"country_code\",\"year\",\"quantile\",\"income\",\"gdpppp\"]].copy()\n",
    "\n",
    "income.info()\n",
    "income.head()\n",
    "#We do not have null values and we have 10400 total columns"
   ]
  },
  {
   "cell_type": "markdown",
   "id": "a62f6a04",
   "metadata": {},
   "source": [
    "### 1.4 Verifying our population and gini index datasets"
   ]
  },
  {
   "cell_type": "code",
   "execution_count": 10,
   "id": "776cde69",
   "metadata": {},
   "outputs": [
    {
     "name": "stdout",
     "output_type": "stream",
     "text": [
      "<class 'pandas.core.frame.DataFrame'>\n",
      "Index: 222 entries, Population to Last Updated: 07/20/2022\n",
      "Data columns (total 26 columns):\n",
      " #   Column         Non-Null Count  Dtype  \n",
      "---  ------         --------------  -----  \n",
      " 0   Series Name    204 non-null    object \n",
      " 1   Series Code    204 non-null    object \n",
      " 2   Country Name   204 non-null    object \n",
      " 3   Country Code   204 non-null    object \n",
      " 4   2000 [YR2000]  204 non-null    float64\n",
      " 5   2001 [YR2001]  204 non-null    float64\n",
      " 6   2002 [YR2002]  204 non-null    float64\n",
      " 7   2003 [YR2003]  204 non-null    float64\n",
      " 8   2004 [YR2004]  204 non-null    float64\n",
      " 9   2005 [YR2005]  204 non-null    float64\n",
      " 10  2006 [YR2006]  204 non-null    float64\n",
      " 11  2007 [YR2007]  204 non-null    float64\n",
      " 12  2008 [YR2008]  204 non-null    float64\n",
      " 13  2009 [YR2009]  204 non-null    float64\n",
      " 14  2010 [YR2010]  204 non-null    float64\n",
      " 15  2011 [YR2011]  204 non-null    float64\n",
      " 16  2012 [YR2012]  203 non-null    float64\n",
      " 17  2013 [YR2013]  203 non-null    float64\n",
      " 18  2014 [YR2014]  203 non-null    float64\n",
      " 19  2015 [YR2015]  203 non-null    float64\n",
      " 20  2016 [YR2016]  203 non-null    float64\n",
      " 21  2017 [YR2017]  203 non-null    float64\n",
      " 22  2018 [YR2018]  203 non-null    float64\n",
      " 23  2019 [YR2019]  203 non-null    float64\n",
      " 24  2020 [YR2020]  203 non-null    float64\n",
      " 25  2021 [YR2021]  203 non-null    float64\n",
      "dtypes: float64(22), object(4)\n",
      "memory usage: 46.8+ KB\n",
      "<class 'pandas.core.frame.DataFrame'>\n",
      "RangeIndex: 222 entries, 0 to 221\n",
      "Data columns (total 26 columns):\n",
      " #   Column         Non-Null Count  Dtype  \n",
      "---  ------         --------------  -----  \n",
      " 0   Series Name    219 non-null    object \n",
      " 1   Series Code    204 non-null    object \n",
      " 2   Country Name   204 non-null    object \n",
      " 3   Country Code   204 non-null    object \n",
      " 4   2000 [YR2000]  49 non-null     float64\n",
      " 5   2001 [YR2001]  34 non-null     float64\n",
      " 6   2002 [YR2002]  52 non-null     float64\n",
      " 7   2003 [YR2003]  57 non-null     float64\n",
      " 8   2004 [YR2004]  67 non-null     float64\n",
      " 9   2005 [YR2005]  70 non-null     float64\n",
      " 10  2006 [YR2006]  73 non-null     float64\n",
      " 11  2007 [YR2007]  70 non-null     float64\n",
      " 12  2008 [YR2008]  72 non-null     float64\n",
      " 13  2009 [YR2009]  77 non-null     float64\n",
      " 14  2010 [YR2010]  81 non-null     float64\n",
      " 15  2011 [YR2011]  77 non-null     float64\n",
      " 16  2012 [YR2012]  82 non-null     float64\n",
      " 17  2013 [YR2013]  75 non-null     float64\n",
      " 18  2014 [YR2014]  80 non-null     float64\n",
      " 19  2015 [YR2015]  81 non-null     float64\n",
      " 20  2016 [YR2016]  80 non-null     float64\n",
      " 21  2017 [YR2017]  74 non-null     float64\n",
      " 22  2018 [YR2018]  83 non-null     float64\n",
      " 23  2019 [YR2019]  58 non-null     float64\n",
      " 24  2020 [YR2020]  20 non-null     float64\n",
      " 25  2021 [YR2021]  1 non-null      float64\n",
      "dtypes: float64(22), object(4)\n",
      "memory usage: 45.2+ KB\n"
     ]
    },
    {
     "data": {
      "text/html": [
       "<div>\n",
       "<style scoped>\n",
       "    .dataframe tbody tr th:only-of-type {\n",
       "        vertical-align: middle;\n",
       "    }\n",
       "\n",
       "    .dataframe tbody tr th {\n",
       "        vertical-align: top;\n",
       "    }\n",
       "\n",
       "    .dataframe thead th {\n",
       "        text-align: right;\n",
       "    }\n",
       "</style>\n",
       "<table border=\"1\" class=\"dataframe\">\n",
       "  <thead>\n",
       "    <tr style=\"text-align: right;\">\n",
       "      <th></th>\n",
       "      <th>country_name</th>\n",
       "      <th>country_code</th>\n",
       "      <th>2000</th>\n",
       "      <th>2001</th>\n",
       "      <th>2002</th>\n",
       "      <th>2003</th>\n",
       "      <th>2004</th>\n",
       "      <th>2005</th>\n",
       "      <th>2006</th>\n",
       "      <th>2007</th>\n",
       "      <th>...</th>\n",
       "      <th>2012</th>\n",
       "      <th>2013</th>\n",
       "      <th>2014</th>\n",
       "      <th>2015</th>\n",
       "      <th>2016</th>\n",
       "      <th>2017</th>\n",
       "      <th>2018</th>\n",
       "      <th>2019</th>\n",
       "      <th>2020</th>\n",
       "      <th>2021</th>\n",
       "    </tr>\n",
       "  </thead>\n",
       "  <tbody>\n",
       "    <tr>\n",
       "      <th>Population</th>\n",
       "      <td>Afghanistan</td>\n",
       "      <td>AFG</td>\n",
       "      <td>20779957.0</td>\n",
       "      <td>21606992.0</td>\n",
       "      <td>22600774.0</td>\n",
       "      <td>23680871.0</td>\n",
       "      <td>24726689.0</td>\n",
       "      <td>25654274.0</td>\n",
       "      <td>26433058.0</td>\n",
       "      <td>27100542.0</td>\n",
       "      <td>...</td>\n",
       "      <td>31161378.0</td>\n",
       "      <td>32269592.0</td>\n",
       "      <td>33370804.0</td>\n",
       "      <td>34413603.0</td>\n",
       "      <td>35383028.0</td>\n",
       "      <td>36296111.0</td>\n",
       "      <td>37171922.0</td>\n",
       "      <td>38041757.0</td>\n",
       "      <td>38928341.0</td>\n",
       "      <td>39835428.0</td>\n",
       "    </tr>\n",
       "    <tr>\n",
       "      <th>Population</th>\n",
       "      <td>Albania</td>\n",
       "      <td>ALB</td>\n",
       "      <td>3089027.0</td>\n",
       "      <td>3060173.0</td>\n",
       "      <td>3051010.0</td>\n",
       "      <td>3039616.0</td>\n",
       "      <td>3026939.0</td>\n",
       "      <td>3011487.0</td>\n",
       "      <td>2992547.0</td>\n",
       "      <td>2970017.0</td>\n",
       "      <td>...</td>\n",
       "      <td>2900401.0</td>\n",
       "      <td>2895092.0</td>\n",
       "      <td>2889104.0</td>\n",
       "      <td>2880703.0</td>\n",
       "      <td>2876101.0</td>\n",
       "      <td>2873457.0</td>\n",
       "      <td>2866376.0</td>\n",
       "      <td>2854191.0</td>\n",
       "      <td>2837849.0</td>\n",
       "      <td>2811666.0</td>\n",
       "    </tr>\n",
       "    <tr>\n",
       "      <th>Population</th>\n",
       "      <td>Algeria</td>\n",
       "      <td>DZA</td>\n",
       "      <td>31042238.0</td>\n",
       "      <td>31451513.0</td>\n",
       "      <td>31855110.0</td>\n",
       "      <td>32264159.0</td>\n",
       "      <td>32692153.0</td>\n",
       "      <td>33149720.0</td>\n",
       "      <td>33641007.0</td>\n",
       "      <td>34166976.0</td>\n",
       "      <td>...</td>\n",
       "      <td>37383899.0</td>\n",
       "      <td>38140135.0</td>\n",
       "      <td>38923688.0</td>\n",
       "      <td>39728020.0</td>\n",
       "      <td>40551398.0</td>\n",
       "      <td>41389174.0</td>\n",
       "      <td>42228415.0</td>\n",
       "      <td>43053054.0</td>\n",
       "      <td>43851043.0</td>\n",
       "      <td>44616626.0</td>\n",
       "    </tr>\n",
       "    <tr>\n",
       "      <th>Population</th>\n",
       "      <td>American Samoa</td>\n",
       "      <td>ASM</td>\n",
       "      <td>57816.0</td>\n",
       "      <td>58496.0</td>\n",
       "      <td>59077.0</td>\n",
       "      <td>59495.0</td>\n",
       "      <td>59684.0</td>\n",
       "      <td>59557.0</td>\n",
       "      <td>59109.0</td>\n",
       "      <td>58367.0</td>\n",
       "      <td>...</td>\n",
       "      <td>55669.0</td>\n",
       "      <td>55717.0</td>\n",
       "      <td>55791.0</td>\n",
       "      <td>55806.0</td>\n",
       "      <td>55739.0</td>\n",
       "      <td>55617.0</td>\n",
       "      <td>55461.0</td>\n",
       "      <td>55312.0</td>\n",
       "      <td>55197.0</td>\n",
       "      <td>55103.0</td>\n",
       "    </tr>\n",
       "    <tr>\n",
       "      <th>Population</th>\n",
       "      <td>Andorra</td>\n",
       "      <td>AND</td>\n",
       "      <td>65390.0</td>\n",
       "      <td>67344.0</td>\n",
       "      <td>70048.0</td>\n",
       "      <td>73180.0</td>\n",
       "      <td>76250.0</td>\n",
       "      <td>78871.0</td>\n",
       "      <td>80995.0</td>\n",
       "      <td>82682.0</td>\n",
       "      <td>...</td>\n",
       "      <td>82427.0</td>\n",
       "      <td>80770.0</td>\n",
       "      <td>79213.0</td>\n",
       "      <td>77993.0</td>\n",
       "      <td>77295.0</td>\n",
       "      <td>76997.0</td>\n",
       "      <td>77008.0</td>\n",
       "      <td>77146.0</td>\n",
       "      <td>77265.0</td>\n",
       "      <td>77354.0</td>\n",
       "    </tr>\n",
       "  </tbody>\n",
       "</table>\n",
       "<p>5 rows × 24 columns</p>\n",
       "</div>"
      ],
      "text/plain": [
       "              country_name country_code        2000        2001        2002  \\\n",
       "Population     Afghanistan          AFG  20779957.0  21606992.0  22600774.0   \n",
       "Population         Albania          ALB   3089027.0   3060173.0   3051010.0   \n",
       "Population         Algeria          DZA  31042238.0  31451513.0  31855110.0   \n",
       "Population  American Samoa          ASM     57816.0     58496.0     59077.0   \n",
       "Population         Andorra          AND     65390.0     67344.0     70048.0   \n",
       "\n",
       "                  2003        2004        2005        2006        2007  ...  \\\n",
       "Population  23680871.0  24726689.0  25654274.0  26433058.0  27100542.0  ...   \n",
       "Population   3039616.0   3026939.0   3011487.0   2992547.0   2970017.0  ...   \n",
       "Population  32264159.0  32692153.0  33149720.0  33641007.0  34166976.0  ...   \n",
       "Population     59495.0     59684.0     59557.0     59109.0     58367.0  ...   \n",
       "Population     73180.0     76250.0     78871.0     80995.0     82682.0  ...   \n",
       "\n",
       "                  2012        2013        2014        2015        2016  \\\n",
       "Population  31161378.0  32269592.0  33370804.0  34413603.0  35383028.0   \n",
       "Population   2900401.0   2895092.0   2889104.0   2880703.0   2876101.0   \n",
       "Population  37383899.0  38140135.0  38923688.0  39728020.0  40551398.0   \n",
       "Population     55669.0     55717.0     55791.0     55806.0     55739.0   \n",
       "Population     82427.0     80770.0     79213.0     77993.0     77295.0   \n",
       "\n",
       "                  2017        2018        2019        2020        2021  \n",
       "Population  36296111.0  37171922.0  38041757.0  38928341.0  39835428.0  \n",
       "Population   2873457.0   2866376.0   2854191.0   2837849.0   2811666.0  \n",
       "Population  41389174.0  42228415.0  43053054.0  43851043.0  44616626.0  \n",
       "Population     55617.0     55461.0     55312.0     55197.0     55103.0  \n",
       "Population     76997.0     77008.0     77146.0     77265.0     77354.0  \n",
       "\n",
       "[5 rows x 24 columns]"
      ]
     },
     "execution_count": 10,
     "metadata": {},
     "output_type": "execute_result"
    }
   ],
   "source": [
    "#Checking the number of missing data\n",
    "pop.info()\n",
    "gini.info()\n",
    "#We have a lot of missing gini data, but it seems like the population data is complete\n",
    "\n",
    "#Renaming columns\n",
    "gini.columns = np.append([\"x1\",\"x2\",\"country_name\",\"country_code\"],list(range(2000,2022)))\n",
    "gini.drop(columns=[\"x1\",\"x2\"], inplace=True)\n",
    "\n",
    "gini.head()\n",
    "\n",
    "pop.columns = np.append([\"x1\",\"x2\",\"country_name\",\"country_code\"],list(range(2000,2022)))\n",
    "pop.drop(columns=[\"x1\",\"x2\"], inplace=True)\n",
    "\n",
    "pop.head()\n",
    "\n"
   ]
  },
  {
   "cell_type": "markdown",
   "id": "6ae66c31",
   "metadata": {},
   "source": [
    "## 2 Preliminary Analysis\n",
    "\n",
    "### 2.1 Merging our tables"
   ]
  },
  {
   "cell_type": "code",
   "execution_count": 11,
   "id": "15864593",
   "metadata": {},
   "outputs": [
    {
     "data": {
      "text/plain": [
       "array(['2000', '2001', '2002', '2003', '2004', '2005', '2006', '2007',\n",
       "       '2008', '2009', '2010', '2011', '2012', '2013', '2014', '2015',\n",
       "       '2016', '2017', '2018', '2019', '2020', '2021'], dtype=object)"
      ]
     },
     "execution_count": 11,
     "metadata": {},
     "output_type": "execute_result"
    }
   ],
   "source": [
    "#First we need to unpivot the Gini and population tables\n",
    "pop_melt = pop.melt(id_vars=[\"country_code\",\"country_name\"], value_name =\"population\", var_name = \"year\").reset_index()\n",
    "gini_melt = gini.melt(id_vars=[\"country_code\",\"country_name\"], value_name =\"gini\", var_name = \"year\").reset_index()\n",
    "\n",
    "#Dropping the created index column that will no be relevant\n",
    "pop_melt.drop(columns=[\"index\"], inplace=True)\n",
    "gini_melt.drop(columns=[\"index\"], inplace=True)\n",
    "\n",
    "#Looking at the different year of data\n",
    "gini_melt.year.unique()\n"
   ]
  },
  {
   "cell_type": "code",
   "execution_count": 12,
   "id": "0454f2cb",
   "metadata": {},
   "outputs": [
    {
     "data": {
      "text/html": [
       "<div>\n",
       "<style scoped>\n",
       "    .dataframe tbody tr th:only-of-type {\n",
       "        vertical-align: middle;\n",
       "    }\n",
       "\n",
       "    .dataframe tbody tr th {\n",
       "        vertical-align: top;\n",
       "    }\n",
       "\n",
       "    .dataframe thead th {\n",
       "        text-align: right;\n",
       "    }\n",
       "</style>\n",
       "<table border=\"1\" class=\"dataframe\">\n",
       "  <thead>\n",
       "    <tr style=\"text-align: right;\">\n",
       "      <th></th>\n",
       "      <th>country_code</th>\n",
       "      <th>country_name</th>\n",
       "      <th>year</th>\n",
       "      <th>population</th>\n",
       "    </tr>\n",
       "  </thead>\n",
       "  <tbody>\n",
       "    <tr>\n",
       "      <th>0</th>\n",
       "      <td>AFG</td>\n",
       "      <td>Afghanistan</td>\n",
       "      <td>2000</td>\n",
       "      <td>20779957.0</td>\n",
       "    </tr>\n",
       "    <tr>\n",
       "      <th>1</th>\n",
       "      <td>ALB</td>\n",
       "      <td>Albania</td>\n",
       "      <td>2000</td>\n",
       "      <td>3089027.0</td>\n",
       "    </tr>\n",
       "    <tr>\n",
       "      <th>2</th>\n",
       "      <td>DZA</td>\n",
       "      <td>Algeria</td>\n",
       "      <td>2000</td>\n",
       "      <td>31042238.0</td>\n",
       "    </tr>\n",
       "    <tr>\n",
       "      <th>3</th>\n",
       "      <td>ASM</td>\n",
       "      <td>American Samoa</td>\n",
       "      <td>2000</td>\n",
       "      <td>57816.0</td>\n",
       "    </tr>\n",
       "    <tr>\n",
       "      <th>4</th>\n",
       "      <td>AND</td>\n",
       "      <td>Andorra</td>\n",
       "      <td>2000</td>\n",
       "      <td>65390.0</td>\n",
       "    </tr>\n",
       "  </tbody>\n",
       "</table>\n",
       "</div>"
      ],
      "text/plain": [
       "  country_code    country_name  year  population\n",
       "0          AFG     Afghanistan  2000  20779957.0\n",
       "1          ALB         Albania  2000   3089027.0\n",
       "2          DZA         Algeria  2000  31042238.0\n",
       "3          ASM  American Samoa  2000     57816.0\n",
       "4          AND         Andorra  2000     65390.0"
      ]
     },
     "execution_count": 12,
     "metadata": {},
     "output_type": "execute_result"
    }
   ],
   "source": [
    "#Keeping only instances where values are not na\n",
    "gini_melt = gini_melt.loc[~gini_melt.gini.isna()]\n",
    "pop_melt = pop_melt.loc[~pop_melt.population.isna()]\n",
    "\n",
    "gini_melt.head()\n",
    "pop_melt.head()"
   ]
  },
  {
   "cell_type": "code",
   "execution_count": 13,
   "id": "612be997",
   "metadata": {},
   "outputs": [
    {
     "name": "stdout",
     "output_type": "stream",
     "text": [
      "<class 'pandas.core.frame.DataFrame'>\n",
      "RangeIndex: 10400 entries, 0 to 10399\n",
      "Data columns (total 5 columns):\n",
      " #   Column        Non-Null Count  Dtype  \n",
      "---  ------        --------------  -----  \n",
      " 0   country_code  10400 non-null  object \n",
      " 1   year          10400 non-null  int16  \n",
      " 2   quantile      10400 non-null  int64  \n",
      " 3   income        10400 non-null  float64\n",
      " 4   gdpppp        10400 non-null  float64\n",
      "dtypes: float64(2), int16(1), int64(1), object(1)\n",
      "memory usage: 345.4+ KB\n",
      "<class 'pandas.core.frame.DataFrame'>\n",
      "Int64Index: 8100 entries, 0 to 8099\n",
      "Data columns (total 8 columns):\n",
      " #   Column        Non-Null Count  Dtype  \n",
      "---  ------        --------------  -----  \n",
      " 0   country_code  8100 non-null   object \n",
      " 1   country_name  8100 non-null   object \n",
      " 2   year          8100 non-null   int16  \n",
      " 3   gini          8100 non-null   float64\n",
      " 4   population    8100 non-null   float64\n",
      " 5   quantile      8100 non-null   int64  \n",
      " 6   income        8100 non-null   float64\n",
      " 7   gdpppp        8100 non-null   float64\n",
      "dtypes: float64(4), int16(1), int64(1), object(2)\n",
      "memory usage: 522.1+ KB\n"
     ]
    },
    {
     "data": {
      "text/html": [
       "<div>\n",
       "<style scoped>\n",
       "    .dataframe tbody tr th:only-of-type {\n",
       "        vertical-align: middle;\n",
       "    }\n",
       "\n",
       "    .dataframe tbody tr th {\n",
       "        vertical-align: top;\n",
       "    }\n",
       "\n",
       "    .dataframe thead th {\n",
       "        text-align: right;\n",
       "    }\n",
       "</style>\n",
       "<table border=\"1\" class=\"dataframe\">\n",
       "  <thead>\n",
       "    <tr style=\"text-align: right;\">\n",
       "      <th></th>\n",
       "      <th>country_code</th>\n",
       "      <th>country_name</th>\n",
       "      <th>year</th>\n",
       "      <th>gini</th>\n",
       "      <th>population</th>\n",
       "      <th>quantile</th>\n",
       "      <th>income</th>\n",
       "      <th>gdpppp</th>\n",
       "    </tr>\n",
       "  </thead>\n",
       "  <tbody>\n",
       "    <tr>\n",
       "      <th>0</th>\n",
       "      <td>PHL</td>\n",
       "      <td>Philippines</td>\n",
       "      <td>2006</td>\n",
       "      <td>47.2</td>\n",
       "      <td>87888675.0</td>\n",
       "      <td>1</td>\n",
       "      <td>213.12650</td>\n",
       "      <td>3240.0</td>\n",
       "    </tr>\n",
       "    <tr>\n",
       "      <th>1</th>\n",
       "      <td>PHL</td>\n",
       "      <td>Philippines</td>\n",
       "      <td>2006</td>\n",
       "      <td>47.2</td>\n",
       "      <td>87888675.0</td>\n",
       "      <td>2</td>\n",
       "      <td>271.87920</td>\n",
       "      <td>3240.0</td>\n",
       "    </tr>\n",
       "    <tr>\n",
       "      <th>2</th>\n",
       "      <td>PHL</td>\n",
       "      <td>Philippines</td>\n",
       "      <td>2006</td>\n",
       "      <td>47.2</td>\n",
       "      <td>87888675.0</td>\n",
       "      <td>3</td>\n",
       "      <td>300.22366</td>\n",
       "      <td>3240.0</td>\n",
       "    </tr>\n",
       "    <tr>\n",
       "      <th>3</th>\n",
       "      <td>PHL</td>\n",
       "      <td>Philippines</td>\n",
       "      <td>2006</td>\n",
       "      <td>47.2</td>\n",
       "      <td>87888675.0</td>\n",
       "      <td>4</td>\n",
       "      <td>321.51923</td>\n",
       "      <td>3240.0</td>\n",
       "    </tr>\n",
       "    <tr>\n",
       "      <th>4</th>\n",
       "      <td>PHL</td>\n",
       "      <td>Philippines</td>\n",
       "      <td>2006</td>\n",
       "      <td>47.2</td>\n",
       "      <td>87888675.0</td>\n",
       "      <td>5</td>\n",
       "      <td>340.73532</td>\n",
       "      <td>3240.0</td>\n",
       "    </tr>\n",
       "  </tbody>\n",
       "</table>\n",
       "</div>"
      ],
      "text/plain": [
       "  country_code country_name  year  gini  population  quantile     income  \\\n",
       "0          PHL  Philippines  2006  47.2  87888675.0         1  213.12650   \n",
       "1          PHL  Philippines  2006  47.2  87888675.0         2  271.87920   \n",
       "2          PHL  Philippines  2006  47.2  87888675.0         3  300.22366   \n",
       "3          PHL  Philippines  2006  47.2  87888675.0         4  321.51923   \n",
       "4          PHL  Philippines  2006  47.2  87888675.0         5  340.73532   \n",
       "\n",
       "   gdpppp  \n",
       "0  3240.0  \n",
       "1  3240.0  \n",
       "2  3240.0  \n",
       "3  3240.0  \n",
       "4  3240.0  "
      ]
     },
     "execution_count": 13,
     "metadata": {},
     "output_type": "execute_result"
    }
   ],
   "source": [
    "#We will start with an inner join to keep only the lines of data with complete information\n",
    "db = gini_melt.merge(pop_melt[[\"country_code\",\"year\",\"population\"]],how=\"inner\",on=[\"country_code\",\"year\"])\n",
    "\n",
    "#Adjusting the year column in both our databases so they are the same format\n",
    "db[\"year\"] = pd.to_numeric(db.year, downcast=\"integer\")\n",
    "income[\"year\"] = pd.to_numeric(income.year, downcast=\"integer\")\n",
    "\n",
    "#We do an inner join to only analyze countries with complete data\n",
    "data = db.merge(income, how=\"inner\", on=[\"country_code\",\"year\"])\n",
    "\n",
    "income.info()\n",
    "data.info()\n",
    "data.head()\n",
    "#Out of the 104 countries of our income dataframe, we only have 81 countries remaining with complete gini and population data"
   ]
  },
  {
   "cell_type": "markdown",
   "id": "e040291f",
   "metadata": {},
   "source": [
    "We will be able to perform the study only on the **81 countries** which are in our dataframe\n",
    "\n",
    "### 2.2 Years of data"
   ]
  },
  {
   "cell_type": "code",
   "execution_count": 14,
   "id": "a33d9ffa",
   "metadata": {},
   "outputs": [
    {
     "name": "stdout",
     "output_type": "stream",
     "text": [
      "[2006 2007 2008 2009 2010]\n"
     ]
    }
   ],
   "source": [
    "print(data.year.unique())"
   ]
  },
  {
   "cell_type": "markdown",
   "id": "57187cb7",
   "metadata": {},
   "source": [
    "Our dataframe includes data **from 2006 to 2010**\n",
    "\n",
    "### 2.3 Population covered by the dataset\n",
    "Let's group our data per year and country code and calculate the total population"
   ]
  },
  {
   "cell_type": "code",
   "execution_count": 15,
   "id": "66251d9f",
   "metadata": {},
   "outputs": [
    {
     "name": "stdout",
     "output_type": "stream",
     "text": [
      "Total population of our data is :  2821742542.0\n"
     ]
    },
    {
     "data": {
      "text/html": [
       "<div>\n",
       "<style scoped>\n",
       "    .dataframe tbody tr th:only-of-type {\n",
       "        vertical-align: middle;\n",
       "    }\n",
       "\n",
       "    .dataframe tbody tr th {\n",
       "        vertical-align: top;\n",
       "    }\n",
       "\n",
       "    .dataframe thead th {\n",
       "        text-align: right;\n",
       "    }\n",
       "</style>\n",
       "<table border=\"1\" class=\"dataframe\">\n",
       "  <thead>\n",
       "    <tr style=\"text-align: right;\">\n",
       "      <th></th>\n",
       "      <th>country_code</th>\n",
       "      <th>country_name</th>\n",
       "      <th>year</th>\n",
       "      <th>gini</th>\n",
       "      <th>population</th>\n",
       "      <th>quantile</th>\n",
       "      <th>income</th>\n",
       "      <th>gdpppp</th>\n",
       "    </tr>\n",
       "  </thead>\n",
       "  <tbody>\n",
       "    <tr>\n",
       "      <th>0</th>\n",
       "      <td>ALB</td>\n",
       "      <td>Albania</td>\n",
       "      <td>2008</td>\n",
       "      <td>30.0</td>\n",
       "      <td>2947314.0</td>\n",
       "      <td>100</td>\n",
       "      <td>17754.324</td>\n",
       "      <td>7297.0</td>\n",
       "    </tr>\n",
       "    <tr>\n",
       "      <th>1</th>\n",
       "      <td>ARG</td>\n",
       "      <td>Argentina</td>\n",
       "      <td>2008</td>\n",
       "      <td>44.9</td>\n",
       "      <td>40080159.0</td>\n",
       "      <td>100</td>\n",
       "      <td>43669.242</td>\n",
       "      <td>13220.0</td>\n",
       "    </tr>\n",
       "    <tr>\n",
       "      <th>2</th>\n",
       "      <td>ARM</td>\n",
       "      <td>Armenia</td>\n",
       "      <td>2008</td>\n",
       "      <td>29.2</td>\n",
       "      <td>2907615.0</td>\n",
       "      <td>100</td>\n",
       "      <td>6566.159</td>\n",
       "      <td>5611.0</td>\n",
       "    </tr>\n",
       "    <tr>\n",
       "      <th>3</th>\n",
       "      <td>AUT</td>\n",
       "      <td>Austria</td>\n",
       "      <td>2008</td>\n",
       "      <td>30.4</td>\n",
       "      <td>8321496.0</td>\n",
       "      <td>100</td>\n",
       "      <td>72216.680</td>\n",
       "      <td>36193.0</td>\n",
       "    </tr>\n",
       "    <tr>\n",
       "      <th>4</th>\n",
       "      <td>BEL</td>\n",
       "      <td>Belgium</td>\n",
       "      <td>2008</td>\n",
       "      <td>28.4</td>\n",
       "      <td>10709973.0</td>\n",
       "      <td>100</td>\n",
       "      <td>83104.470</td>\n",
       "      <td>33561.0</td>\n",
       "    </tr>\n",
       "  </tbody>\n",
       "</table>\n",
       "</div>"
      ],
      "text/plain": [
       "  country_code country_name  year  gini  population  quantile     income  \\\n",
       "0          ALB      Albania  2008  30.0   2947314.0       100  17754.324   \n",
       "1          ARG    Argentina  2008  44.9  40080159.0       100  43669.242   \n",
       "2          ARM      Armenia  2008  29.2   2907615.0       100   6566.159   \n",
       "3          AUT      Austria  2008  30.4   8321496.0       100  72216.680   \n",
       "4          BEL      Belgium  2008  28.4  10709973.0       100  83104.470   \n",
       "\n",
       "    gdpppp  \n",
       "0   7297.0  \n",
       "1  13220.0  \n",
       "2   5611.0  \n",
       "3  36193.0  \n",
       "4  33561.0  "
      ]
     },
     "execution_count": 15,
     "metadata": {},
     "output_type": "execute_result"
    }
   ],
   "source": [
    "subset = data.groupby([\"country_code\",\"country_name\",\"year\"]).max().reset_index()\n",
    "\n",
    "print(\"Total population of our data is : \",subset.population.sum())\n",
    "\n",
    "subset.head()"
   ]
  },
  {
   "cell_type": "markdown",
   "id": "581b9dec",
   "metadata": {},
   "source": [
    "The combined population of countries in our dataset is **2.82 billion**.\n",
    "\n",
    "If we were to take the median year(2008) to calculate a percentage, with a total population of 6.757 billion people, we can conclude that this **sample represents 41.76% of the world population**\n",
    "\n",
    "### 2.4 Types of quantiles used :\n",
    "\n",
    "It is clearly **percentiles** since there are 100 quantiles per country and year\n",
    "\n",
    "### 2.5  Explanation of the PPP unity (USD)\n",
    "\n",
    "PPP means **Purchasing Power Parity**, it is calculated as such :\n",
    "\n",
    "Purchasing Power Parity (USD) = Cost of good X in currency 1 / Cost of good X in U.S. dollar\n",
    "\n",
    "It seems to be a good method to compare countries because it takes into account the actual purchasing power of people and helps offset the impact of inflation and other similar factors.\n",
    "\n",
    "### 2.6 Graph of the income distribution of several countries \n",
    "\n",
    "We are asked to select at least my own country (France), and two countries with the greatest and lowest Gini Index  :"
   ]
  },
  {
   "cell_type": "code",
   "execution_count": 16,
   "id": "67b0c574",
   "metadata": {},
   "outputs": [
    {
     "name": "stdout",
     "output_type": "stream",
     "text": [
      "   country_code\n",
      "80          ZAF\n",
      "11          CAF\n",
      "75          UGA\n",
      "27          FRA\n",
      "36          ISL\n",
      "20          DNK\n",
      "68          SVN\n",
      "<class 'pandas.core.frame.DataFrame'>\n",
      "Int64Index: 700 entries, 0 to 699\n",
      "Data columns (total 8 columns):\n",
      " #   Column        Non-Null Count  Dtype  \n",
      "---  ------        --------------  -----  \n",
      " 0   country_code  700 non-null    object \n",
      " 1   country_name  700 non-null    object \n",
      " 2   year          700 non-null    int16  \n",
      " 3   gini          700 non-null    float64\n",
      " 4   population    700 non-null    float64\n",
      " 5   quantile      700 non-null    int64  \n",
      " 6   income        700 non-null    float64\n",
      " 7   gdpppp        700 non-null    float64\n",
      "dtypes: float64(4), int16(1), int64(1), object(2)\n",
      "memory usage: 45.1+ KB\n"
     ]
    },
    {
     "data": {
      "image/png": "[encoded data removed]",
      "text/plain": [
       "<Figure size 842.4x595.44 with 1 Axes>"
      ]
     },
     "metadata": {},
     "output_type": "display_data"
    }
   ],
   "source": [
    "#Let's rank our dataset by gini index, we aggregate by country to be able to rank by countries\n",
    "ranked_gini_data = data.groupby([\"country_code\",\"country_name\",\"year\"]).max().reset_index().sort_values(by=\"gini\", ascending=False)\n",
    "\n",
    "#Creating rank column\n",
    "ranked_gini_data[\"rank\"] = ranked_gini_data[\"gini\"].rank(ascending=False)\n",
    "\n",
    "#Selecting our candidate countries\n",
    "#We can also add countries with ranks of 21 / 40 / 60 to have more average countries\n",
    "select_array = [1,2,21,40,60,80,81]\n",
    "\n",
    "#We also add France to the mix\n",
    "selected_countries = ranked_gini_data.loc[(ranked_gini_data[\"rank\"].isin(select_array))|(ranked_gini_data[\"country_code\"]==\"FRA\")][[\"country_code\"]].copy()\n",
    "\n",
    "#Here are our final list of candidate countries\n",
    "print(selected_countries)\n",
    "\n",
    "#Let's join this dataframe with our list of countries to have all data about these countries\n",
    "country_data = data.merge(selected_countries, how=\"inner\",on=\"country_code\")\n",
    "\n",
    "country_data.info()\n",
    "country_data.head()\n",
    "\n",
    "#Displaying the income \n",
    "sns.lineplot(data=country_data, y=\"income\",x=\"quantile\",hue=\"country_name\")\n",
    "plt.ylabel(\"Income\")\n",
    "plt.xlabel(\"Percentile\")\n",
    "plt.title(\"Distribution of the income of a sample of countries\")\n",
    "plt.gca().legend().set_title('Country')\n",
    "plt.show()"
   ]
  },
  {
   "cell_type": "markdown",
   "id": "d18899f3",
   "metadata": {},
   "source": [
    "### 2.7 Lorenz Curve of these countries"
   ]
  },
  {
   "cell_type": "code",
   "execution_count": 17,
   "id": "e14c85cb",
   "metadata": {},
   "outputs": [
    {
     "data": {
      "image/png": "[encoded data removed]",
      "text/plain": [
       "<Figure size 842.4x595.44 with 1 Axes>"
      ]
     },
     "metadata": {},
     "output_type": "display_data"
    },
    {
     "name": "stdout",
     "output_type": "stream",
     "text": [
      "{'Central African Republic': 56.173213512565454, 'Denmark': 25.98711511802613, 'France': 32.909623876035674, 'Iceland': 28.506690027630565, 'Slovenia': 23.073125176390963, 'South Africa': 66.97785011895961, 'Uganda': 42.68888317400994}\n",
      "               country_name  gini\n",
      "0  Central African Republic  56.2\n",
      "1                   Denmark  25.2\n",
      "2                    France  33.0\n",
      "3                   Iceland  31.8\n",
      "4                  Slovenia  23.7\n",
      "5              South Africa  63.0\n",
      "6                    Uganda  44.2\n"
     ]
    }
   ],
   "source": [
    "#Preparing for Lorenz curve\n",
    "plt.axis('equal')\n",
    "n = 100\n",
    "xaxis = np.linspace(0-1/n,1+1/n,n+1)\n",
    "plt.plot(xaxis,xaxis, label = 'Perfect Equality')\n",
    "country_gini = {}\n",
    "\n",
    "for c in country_data.country_name.unique():\n",
    "    subset = country_data.loc[country_data[\"country_name\"] == c]\n",
    "    incomes = subset[\"income\"].values\n",
    "    lorenz = np.cumsum(np.sort(incomes)) / incomes.sum()\n",
    "    lorenz = np.append([0],lorenz)\n",
    "    plt.plot(xaxis,lorenz,drawstyle='steps-post', label = c)\n",
    "    #Calculating the gini coefficient\n",
    "    AUC = (lorenz.sum() -lorenz[-1]/2 -lorenz[0]/2)/n # area under the Lorenz Curve. The first segment (lorenz[0]) is halfly below O, so we divide it by 2. We do the same for the mast segment lorenz[-1]\n",
    "    S = 0.5 - AUC # area between 1st bisector and the Lorenz Curve\n",
    "    gini = 2*S*100 #We multiply gini by 100 to get an index number\n",
    "    country_gini[c]= gini\n",
    "\n",
    "plt.title(\"Lorenz curve showing the income distribution of selected countries\")\n",
    "plt.xlabel(\"Cumulative share of population\")\n",
    "plt.ylabel(\"Cumulative share of income\")\n",
    "plt.legend()\n",
    "plt.show()\n",
    "\n",
    "print(country_gini)\n",
    "print(country_data[[\"country_name\",\"gini\"]].groupby(\"country_name\").max().reset_index())\n",
    "#There are some differences between our calculated gini and the gini index data provided."
   ]
  },
  {
   "cell_type": "markdown",
   "id": "fbee8e0c",
   "metadata": {},
   "source": [
    "## 3. Generating the parent income class\n",
    "\n",
    "### 3.1 Creating conditional distributions"
   ]
  },
  {
   "cell_type": "code",
   "execution_count": 18,
   "id": "361e5f4b",
   "metadata": {},
   "outputs": [
    {
     "data": {
      "image/png": "[encoded data removed]",
      "text/plain": [
       "<Figure size 842.4x595.44 with 1 Axes>"
      ]
     },
     "metadata": {},
     "output_type": "display_data"
    },
    {
     "name": "stdout",
     "output_type": "stream",
     "text": [
      "[[0.232 0.127 0.079 ... 0.    0.    0.   ]\n",
      " [0.107 0.085 0.094 ... 0.    0.    0.   ]\n",
      " [0.096 0.071 0.059 ... 0.    0.    0.   ]\n",
      " ...\n",
      " [0.    0.    0.    ... 0.066 0.069 0.092]\n",
      " [0.    0.    0.    ... 0.067 0.096 0.135]\n",
      " [0.    0.    0.    ... 0.084 0.11  0.226]]\n",
      "\n",
      "P(c_i_parent = 8 | c_i_child = 5, pj = 0.9) = 0.028\n"
     ]
    }
   ],
   "source": [
    "from collections import Counter\n",
    "import scipy.stats as st\n",
    "\n",
    "#Defining functions given by our manager\n",
    "def generate_incomes(n, pj):\n",
    "    ln_y_parent = st.norm(0,1).rvs(size=n)\n",
    "    residues = st.norm(0,1).rvs(size=n)\n",
    "    return np.exp(pj*ln_y_parent + residues), np.exp(ln_y_parent)\n",
    "def quantiles(l, nb_quantiles):\n",
    "    size = len(l)\n",
    "    l_sorted = l.copy()\n",
    "    l_sorted = l_sorted.sort_values()\n",
    "    quantiles = np.round(np.arange(1, nb_quantiles+1, nb_quantiles/size)-0.5 +1./size)\n",
    "    q_dict = {a:int(b) for a,b in zip(l_sorted,quantiles)}\n",
    "    return pd.Series([q_dict[e] for e in l])\n",
    "def compute_quantiles(y_child, y_parents, nb_quantiles):\n",
    "    y_child = pd.Series(y_child)\n",
    "    y_parents = pd.Series(y_parents)\n",
    "    c_i_child = quantiles(y_child, nb_quantiles)\n",
    "    c_i_parent = quantiles(y_parents, nb_quantiles)\n",
    "    sample = pd.concat([y_child, y_parents, c_i_child, c_i_parent], axis=1)\n",
    "    sample.columns = [\"y_child\", \"y_parents\", \"c_i_child\",\"c_i_parent\"]\n",
    "    return sample\n",
    "def distribution(counts, nb_quantiles):\n",
    "    distrib = []\n",
    "    total = counts[\"counts\"].sum()\n",
    "    if total == 0 :\n",
    "        return [0] * nb_quantiles\n",
    "    for q_p in range(1, nb_quantiles+1):\n",
    "        subset = counts[counts.c_i_parent == q_p]\n",
    "        if len(subset):\n",
    "            nb = subset[\"counts\"].values[0]\n",
    "            distrib += [nb / total]\n",
    "        else:\n",
    "            distrib += [0]\n",
    "    return distrib\n",
    "def conditional_distributions(sample, nb_quantiles):\n",
    "    counts = sample.groupby([\"c_i_child\",\"c_i_parent\"]).apply(len)\n",
    "    counts = counts.reset_index()\n",
    "    counts.columns = [\"c_i_child\",\"c_i_parent\",\"counts\"]\n",
    "    mat = []\n",
    "    for child_quantile in np.arange(nb_quantiles)+1:\n",
    "        subset = counts[counts.c_i_child == child_quantile]\n",
    "        mat += [distribution(subset, nb_quantiles)]\n",
    "    return np.array(mat)\n",
    "def plot_conditional_distributions(p, cd, nb_quantiles):\n",
    "    plt.figure()\n",
    "    cumul = np.array([0] * nb_quantiles)\n",
    "    for i, child_quantile in enumerate(cd):\n",
    "        plt.bar(np.arange(nb_quantiles)+1, child_quantile, bottom=cumul, width=0.95, label = str(i+1) +\"e\")\n",
    "        cumul = cumul + np.array(child_quantile)\n",
    "    plt.axis([.5, nb_quantiles*1.3 ,0 ,1])\n",
    "    plt.title(\"p=\" + str(p))\n",
    "    plt.legend()\n",
    "    plt.xlabel(\"c_i_parent\")\n",
    "    plt.ylabel(\"probability of having c_i_child\")\n",
    "    plt.show()\n",
    "def proba_cond(c_i_parent, c_i_child, mat):\n",
    "    return mat[c_i_child, c_i_parent]\n",
    "\n",
    "#Defining variables\n",
    "pj = 0.9\n",
    "nb_quantiles = 100\n",
    "n = 1000*nb_quantiles\n",
    "\n",
    "#Generating child and parents incomes\n",
    "y_child, y_parents = generate_incomes(n, pj)\n",
    "#Generating a child/parent sample\n",
    "sample = compute_quantiles(y_child, y_parents, nb_quantiles)\n",
    "#Creating our conditional distribution\n",
    "cd = conditional_distributions(sample, nb_quantiles)\n",
    "#Plotting our conditional distribution\n",
    "plot_conditional_distributions(pj, cd, nb_quantiles) \n",
    "print(cd)\n",
    "\n",
    "#Defining random child and parents classes\n",
    "c_i_child = 5\n",
    "c_i_parent = 8\n",
    "#Calculating the probability of having a child of class c_i_child with a parent of class c_i_parent\n",
    "p = proba_cond(c_i_parent, c_i_child, cd)\n",
    "\n",
    "#Printing the results\n",
    "print(\"\\nP(c_i_parent = {} | c_i_child = {}, pj = {}) = {}\".format(c_i_parent,\n",
    "c_i_child, pj, p))"
   ]
  },
  {
   "cell_type": "markdown",
   "id": "21101ac9",
   "metadata": {},
   "source": [
    "### 3.2 Applying the Conditional Distribution to the WID dataset"
   ]
  },
  {
   "cell_type": "code",
   "execution_count": 19,
   "id": "f0266e52",
   "metadata": {},
   "outputs": [
    {
     "name": "stdout",
     "output_type": "stream",
     "text": [
      "        countryname wbcode iso3       region  year  IGEincome\n",
      "159       Australia    AUS  AUS  High income  1940        NaN\n",
      "160       Australia    AUS  AUS  High income  1940        NaN\n",
      "161       Australia    AUS  AUS  High income  1940        NaN\n",
      "162       Australia    AUS  AUS  High income  1940        NaN\n",
      "163       Australia    AUS  AUS  High income  1940        NaN\n",
      "...             ...    ...  ...          ...   ...        ...\n",
      "6362  United States    USA  USA  High income  1980        NaN\n",
      "6363  United States    USA  USA  High income  1980        NaN\n",
      "6364  United States    USA  USA  High income  1980        NaN\n",
      "6365  United States    USA  USA  High income  1980        NaN\n",
      "6366  United States    USA  USA  High income  1980        NaN\n",
      "\n",
      "[2173 rows x 6 columns]\n",
      "<class 'pandas.core.frame.DataFrame'>\n",
      "RangeIndex: 150 entries, 0 to 149\n",
      "Data columns (total 5 columns):\n",
      " #   Column        Non-Null Count  Dtype  \n",
      "---  ------        --------------  -----  \n",
      " 0   country_name  150 non-null    object \n",
      " 1   country_code  150 non-null    object \n",
      " 2   region        150 non-null    object \n",
      " 3   year          150 non-null    int64  \n",
      " 4   pj            76 non-null     float64\n",
      "dtypes: float64(1), int64(1), object(3)\n",
      "memory usage: 6.0+ KB\n"
     ]
    }
   ],
   "source": [
    "wid = pd.read_csv(\"Data/gdim.csv\")\n",
    "\n",
    "#Keeping only relevant colums\n",
    "wid = wid[[\"countryname\",\"wbcode\",\"iso3\",\"region\",\"year\",\"IGEincome\"]]\n",
    "\n",
    "print(wid[wid.region==\"High income\"])\n",
    "\n",
    "#Aggregating by country\n",
    "wid = wid.groupby(\"countryname\").max().reset_index()\n",
    "\n",
    "#Checking what type of country code is used in our dataset\n",
    "wid.loc[wid[\"wbcode\"]!=wid[\"iso3\"]]\n",
    "\n",
    "#We verify with Romania\n",
    "data[data.country_code==\"ROU\"] #Returns info about Romania\n",
    "data[data.country_code==\"ROM\"] #Returns an empty dataframe\n",
    "\n",
    "#We have just confirmed that our dataset uses the iso3 countrycode and we delete the wbcode column from our dataframe\n",
    "wid.drop(columns={\"wbcode\"},inplace=True)\n",
    "\n",
    "#Only 76 countries with pj information\n",
    "wid.loc[~wid[\"IGEincome\"].isna()]\n",
    "\n",
    "wid.columns = [\"country_name\",\"country_code\",\"region\",\"year\",\"pj\"]\n",
    "\n",
    "wid.info()"
   ]
  },
  {
   "cell_type": "code",
   "execution_count": 20,
   "id": "4f79751f",
   "metadata": {},
   "outputs": [
    {
     "name": "stdout",
     "output_type": "stream",
     "text": [
      "<class 'pandas.core.frame.DataFrame'>\n",
      "Int64Index: 8100 entries, 0 to 8099\n",
      "Data columns (total 10 columns):\n",
      " #   Column        Non-Null Count  Dtype  \n",
      "---  ------        --------------  -----  \n",
      " 0   country_code  8100 non-null   object \n",
      " 1   country_name  8100 non-null   object \n",
      " 2   year          8100 non-null   int16  \n",
      " 3   gini          8100 non-null   float64\n",
      " 4   population    8100 non-null   float64\n",
      " 5   quantile      8100 non-null   int64  \n",
      " 6   income        8100 non-null   float64\n",
      " 7   gdpppp        8100 non-null   float64\n",
      " 8   region        8100 non-null   object \n",
      " 9   pj            4600 non-null   float64\n",
      "dtypes: float64(5), int16(1), int64(1), object(3)\n",
      "memory usage: 648.6+ KB\n",
      "<class 'pandas.core.frame.DataFrame'>\n",
      "Int64Index: 1400 entries, 1300 to 7699\n",
      "Data columns (total 10 columns):\n",
      " #   Column        Non-Null Count  Dtype  \n",
      "---  ------        --------------  -----  \n",
      " 0   country_code  1400 non-null   object \n",
      " 1   country_name  1400 non-null   object \n",
      " 2   year          1400 non-null   int16  \n",
      " 3   gini          1400 non-null   float64\n",
      " 4   population    1400 non-null   float64\n",
      " 5   quantile      1400 non-null   int64  \n",
      " 6   income        1400 non-null   float64\n",
      " 7   gdpppp        1400 non-null   float64\n",
      " 8   region        1400 non-null   object \n",
      " 9   pj            0 non-null      float64\n",
      "dtypes: float64(5), int16(1), int64(1), object(3)\n",
      "memory usage: 112.1+ KB\n",
      "['ARM' 'BGR' 'EST' 'GEO' 'HUN' 'ISL' 'ISR' 'LTU' 'MDA' 'POL' 'TUR' 'UKR'\n",
      " 'URY' 'TJK']\n",
      "['Europe & Central Asia' 'High income']\n",
      "['GEO' 'ISR' 'TUR']\n",
      "<class 'pandas.core.frame.DataFrame'>\n",
      "Int64Index: 7800 entries, 0 to 8099\n",
      "Data columns (total 10 columns):\n",
      " #   Column        Non-Null Count  Dtype  \n",
      "---  ------        --------------  -----  \n",
      " 0   country_code  7800 non-null   object \n",
      " 1   country_name  7800 non-null   object \n",
      " 2   year          7800 non-null   int16  \n",
      " 3   gini          7800 non-null   float64\n",
      " 4   population    7800 non-null   float64\n",
      " 5   quantile      7800 non-null   int64  \n",
      " 6   income        7800 non-null   float64\n",
      " 7   gdpppp        7800 non-null   float64\n",
      " 8   region        7800 non-null   object \n",
      " 9   pj            7800 non-null   float64\n",
      "dtypes: float64(5), int16(1), int64(1), object(3)\n",
      "memory usage: 624.6+ KB\n"
     ]
    }
   ],
   "source": [
    "#Merging WID data with our main dataset\n",
    "data_full = data.merge(wid[[\"country_code\",\"region\",\"pj\"]],how=\"left\",on=\"country_code\")\n",
    "\n",
    "data_full.info()\n",
    "#We only have pj information for 46 out of our 81 studied countries\n",
    "\n",
    "data_full.region.unique()\n",
    "#We have a strange region called \"High income\"\n",
    "\n",
    "#Let's replace the pj coefficients from the data in the elasticity.txt file\n",
    "data_full.loc[data_full[\"region\"] == \"Sub-Saharan Africa\",\"pj\"] = 0.66\n",
    "data_full.loc[data_full[\"region\"] == \"Latin America & Caribbean\",\"pj\"] = 0.66\n",
    "data_full.loc[data_full[\"region\"] == \"East Asia & Pacific\",\"pj\"] = 0.5\n",
    "\n",
    "data_full[data_full[\"pj\"].isna()].info()\n",
    "#We still have 14 countries with no pj data\n",
    "\n",
    "print(data_full[data_full[\"pj\"].isna()].country_code.unique())\n",
    "print(data_full[data_full[\"pj\"].isna()].region.unique())\n",
    "#The problem is that our region column does not differentiate between europe and central asia\n",
    "#There is also a high income column which doesn't make a lot of sense\n",
    "\n",
    "#We will manually fill the data from the elasticity.txt file\n",
    "\n",
    "#These countries are assessed to be non nordic EU countries\n",
    "data_full.loc[data_full[\"country_code\"].isin([\"ARM\",\"BGR\",\"HUN\",\"MDA\",\"POL\",\"EST\",\"LTU\",\"UKR\"]),\"pj\"] = 0.4 \n",
    "#Nordic european country\n",
    "data_full.loc[data_full[\"country_code\"].isin([\"ISL\"]),\"pj\"] = 0.2\n",
    "#Asia\n",
    "data_full.loc[data_full[\"country_code\"].isin([\"TJK\"]),\"pj\"] = 0.5\n",
    "#South America\n",
    "data_full.loc[data_full[\"country_code\"].isin([\"URY\"]),\"pj\"] = 0.66\n",
    "\n",
    "print(data_full[data_full[\"pj\"].isna()].country_code.unique())\n",
    "#The other 3 countries Georgia, Israel and Turkey cannot be nicely fitted in the categories in the elasticity file\n",
    "#We will thus exclude them from our study\n",
    "\n",
    "data_full = data_full[~data_full[\"pj\"].isna()]\n",
    "\n",
    "data_full.info()\n",
    "#We have 78 countries remaining"
   ]
  },
  {
   "cell_type": "code",
   "execution_count": 22,
   "id": "07ca8aa3",
   "metadata": {},
   "outputs": [
    {
     "data": {
      "text/html": [
       "<div>\n",
       "<style scoped>\n",
       "    .dataframe tbody tr th:only-of-type {\n",
       "        vertical-align: middle;\n",
       "    }\n",
       "\n",
       "    .dataframe tbody tr th {\n",
       "        vertical-align: top;\n",
       "    }\n",
       "\n",
       "    .dataframe thead th {\n",
       "        text-align: right;\n",
       "    }\n",
       "</style>\n",
       "<table border=\"1\" class=\"dataframe\">\n",
       "  <thead>\n",
       "    <tr style=\"text-align: right;\">\n",
       "      <th></th>\n",
       "      <th>country_code</th>\n",
       "      <th>quantile</th>\n",
       "      <th>pj</th>\n",
       "    </tr>\n",
       "  </thead>\n",
       "  <tbody>\n",
       "    <tr>\n",
       "      <th>0</th>\n",
       "      <td>PHL</td>\n",
       "      <td>1</td>\n",
       "      <td>0.50</td>\n",
       "    </tr>\n",
       "    <tr>\n",
       "      <th>1</th>\n",
       "      <td>PHL</td>\n",
       "      <td>2</td>\n",
       "      <td>0.50</td>\n",
       "    </tr>\n",
       "    <tr>\n",
       "      <th>2</th>\n",
       "      <td>PHL</td>\n",
       "      <td>3</td>\n",
       "      <td>0.50</td>\n",
       "    </tr>\n",
       "    <tr>\n",
       "      <th>3</th>\n",
       "      <td>PHL</td>\n",
       "      <td>4</td>\n",
       "      <td>0.50</td>\n",
       "    </tr>\n",
       "    <tr>\n",
       "      <th>4</th>\n",
       "      <td>PHL</td>\n",
       "      <td>5</td>\n",
       "      <td>0.50</td>\n",
       "    </tr>\n",
       "    <tr>\n",
       "      <th>...</th>\n",
       "      <td>...</td>\n",
       "      <td>...</td>\n",
       "      <td>...</td>\n",
       "    </tr>\n",
       "    <tr>\n",
       "      <th>8095</th>\n",
       "      <td>NGA</td>\n",
       "      <td>96</td>\n",
       "      <td>0.66</td>\n",
       "    </tr>\n",
       "    <tr>\n",
       "      <th>8096</th>\n",
       "      <td>NGA</td>\n",
       "      <td>97</td>\n",
       "      <td>0.66</td>\n",
       "    </tr>\n",
       "    <tr>\n",
       "      <th>8097</th>\n",
       "      <td>NGA</td>\n",
       "      <td>98</td>\n",
       "      <td>0.66</td>\n",
       "    </tr>\n",
       "    <tr>\n",
       "      <th>8098</th>\n",
       "      <td>NGA</td>\n",
       "      <td>99</td>\n",
       "      <td>0.66</td>\n",
       "    </tr>\n",
       "    <tr>\n",
       "      <th>8099</th>\n",
       "      <td>NGA</td>\n",
       "      <td>100</td>\n",
       "      <td>0.66</td>\n",
       "    </tr>\n",
       "  </tbody>\n",
       "</table>\n",
       "<p>7800 rows × 3 columns</p>\n",
       "</div>"
      ],
      "text/plain": [
       "     country_code  quantile    pj\n",
       "0             PHL         1  0.50\n",
       "1             PHL         2  0.50\n",
       "2             PHL         3  0.50\n",
       "3             PHL         4  0.50\n",
       "4             PHL         5  0.50\n",
       "...           ...       ...   ...\n",
       "8095          NGA        96  0.66\n",
       "8096          NGA        97  0.66\n",
       "8097          NGA        98  0.66\n",
       "8098          NGA        99  0.66\n",
       "8099          NGA       100  0.66\n",
       "\n",
       "[7800 rows x 3 columns]"
      ]
     },
     "execution_count": 22,
     "metadata": {},
     "output_type": "execute_result"
    }
   ],
   "source": [
    "data_full\n",
    "\n",
    "parent_data = data_full[[\"country_code\",\"quantile\",\"pj\"]].copy()\n",
    "parent_data"
   ]
  },
  {
   "cell_type": "code",
   "execution_count": 23,
   "id": "ab461ede",
   "metadata": {},
   "outputs": [
    {
     "data": {
      "application/vnd.jupyter.widget-view+json": {
       "model_id": "515da40dc59444689d83a69611a9bd35",
       "version_major": 2,
       "version_minor": 0
      },
      "text/plain": [
       "country loop:   0%|          | 0/78 [00:00<?, ?it/s]"
      ]
     },
     "metadata": {},
     "output_type": "display_data"
    },
    {
     "data": {
      "application/vnd.jupyter.widget-view+json": {
       "model_id": "bef3036180f9442bbfba6c1364b885eb",
       "version_major": 2,
       "version_minor": 0
      },
      "text/plain": [
       "  0%|          | 0/100 [00:00<?, ?it/s]"
      ]
     },
     "metadata": {},
     "output_type": "display_data"
    },
    {
     "data": {
      "application/vnd.jupyter.widget-view+json": {
       "model_id": "cb0890d814224d84822e9a2466a5c6be",
       "version_major": 2,
       "version_minor": 0
      },
      "text/plain": [
       "  0%|          | 0/100 [00:00<?, ?it/s]"
      ]
     },
     "metadata": {},
     "output_type": "display_data"
    },
    {
     "data": {
      "application/vnd.jupyter.widget-view+json": {
       "model_id": "a7e3e501a7c34c96b63082a58d417059",
       "version_major": 2,
       "version_minor": 0
      },
      "text/plain": [
       "  0%|          | 0/100 [00:00<?, ?it/s]"
      ]
     },
     "metadata": {},
     "output_type": "display_data"
    },
    {
     "data": {
      "application/vnd.jupyter.widget-view+json": {
       "model_id": "e24862d597a9444c984ffeb2dae0047a",
       "version_major": 2,
       "version_minor": 0
      },
      "text/plain": [
       "  0%|          | 0/100 [00:00<?, ?it/s]"
      ]
     },
     "metadata": {},
     "output_type": "display_data"
    },
    {
     "data": {
      "application/vnd.jupyter.widget-view+json": {
       "model_id": "aeb2ce2f79ac402a9f1413e7d3d772b4",
       "version_major": 2,
       "version_minor": 0
      },
      "text/plain": [
       "  0%|          | 0/100 [00:00<?, ?it/s]"
      ]
     },
     "metadata": {},
     "output_type": "display_data"
    },
    {
     "data": {
      "application/vnd.jupyter.widget-view+json": {
       "model_id": "6ea9481aefd640189a0e6b3a2f19b0ca",
       "version_major": 2,
       "version_minor": 0
      },
      "text/plain": [
       "  0%|          | 0/100 [00:00<?, ?it/s]"
      ]
     },
     "metadata": {},
     "output_type": "display_data"
    },
    {
     "data": {
      "application/vnd.jupyter.widget-view+json": {
       "model_id": "c918c90f4d964cf198b14f7b47c2d977",
       "version_major": 2,
       "version_minor": 0
      },
      "text/plain": [
       "  0%|          | 0/100 [00:00<?, ?it/s]"
      ]
     },
     "metadata": {},
     "output_type": "display_data"
    },
    {
     "data": {
      "application/vnd.jupyter.widget-view+json": {
       "model_id": "2446eb0c1a354c659fbea5f4c4791627",
       "version_major": 2,
       "version_minor": 0
      },
      "text/plain": [
       "  0%|          | 0/100 [00:00<?, ?it/s]"
      ]
     },
     "metadata": {},
     "output_type": "display_data"
    },
    {
     "data": {
      "application/vnd.jupyter.widget-view+json": {
       "model_id": "a9746bd43bc24a46a985b7642d7e8c25",
       "version_major": 2,
       "version_minor": 0
      },
      "text/plain": [
       "  0%|          | 0/100 [00:00<?, ?it/s]"
      ]
     },
     "metadata": {},
     "output_type": "display_data"
    },
    {
     "data": {
      "application/vnd.jupyter.widget-view+json": {
       "model_id": "a95689fa40e34df88b3954ad1a8e396c",
       "version_major": 2,
       "version_minor": 0
      },
      "text/plain": [
       "  0%|          | 0/100 [00:00<?, ?it/s]"
      ]
     },
     "metadata": {},
     "output_type": "display_data"
    },
    {
     "data": {
      "application/vnd.jupyter.widget-view+json": {
       "model_id": "4957047f82a34df69f57093ceba2fe79",
       "version_major": 2,
       "version_minor": 0
      },
      "text/plain": [
       "  0%|          | 0/100 [00:00<?, ?it/s]"
      ]
     },
     "metadata": {},
     "output_type": "display_data"
    },
    {
     "data": {
      "application/vnd.jupyter.widget-view+json": {
       "model_id": "9c0ff9309cd643ad937abd9765f2cad6",
       "version_major": 2,
       "version_minor": 0
      },
      "text/plain": [
       "  0%|          | 0/100 [00:00<?, ?it/s]"
      ]
     },
     "metadata": {},
     "output_type": "display_data"
    },
    {
     "data": {
      "application/vnd.jupyter.widget-view+json": {
       "model_id": "f2297b98ab704eaca9eda5852f3c2e03",
       "version_major": 2,
       "version_minor": 0
      },
      "text/plain": [
       "  0%|          | 0/100 [00:00<?, ?it/s]"
      ]
     },
     "metadata": {},
     "output_type": "display_data"
    },
    {
     "data": {
      "application/vnd.jupyter.widget-view+json": {
       "model_id": "1de5b5bfacaf47dfbbf30ad2170e7c16",
       "version_major": 2,
       "version_minor": 0
      },
      "text/plain": [
       "  0%|          | 0/100 [00:00<?, ?it/s]"
      ]
     },
     "metadata": {},
     "output_type": "display_data"
    },
    {
     "data": {
      "application/vnd.jupyter.widget-view+json": {
       "model_id": "e043c0468f5c4fa6bdf6e44e04c8d735",
       "version_major": 2,
       "version_minor": 0
      },
      "text/plain": [
       "  0%|          | 0/100 [00:00<?, ?it/s]"
      ]
     },
     "metadata": {},
     "output_type": "display_data"
    },
    {
     "data": {
      "application/vnd.jupyter.widget-view+json": {
       "model_id": "d4f98116c3c349e69308e89e7bec9b30",
       "version_major": 2,
       "version_minor": 0
      },
      "text/plain": [
       "  0%|          | 0/100 [00:00<?, ?it/s]"
      ]
     },
     "metadata": {},
     "output_type": "display_data"
    },
    {
     "data": {
      "application/vnd.jupyter.widget-view+json": {
       "model_id": "25cc78fe4ede4ce79a9ecc20ce3287d0",
       "version_major": 2,
       "version_minor": 0
      },
      "text/plain": [
       "  0%|          | 0/100 [00:00<?, ?it/s]"
      ]
     },
     "metadata": {},
     "output_type": "display_data"
    },
    {
     "data": {
      "application/vnd.jupyter.widget-view+json": {
       "model_id": "12fd09169a62446195e3bfa772a3622e",
       "version_major": 2,
       "version_minor": 0
      },
      "text/plain": [
       "  0%|          | 0/100 [00:00<?, ?it/s]"
      ]
     },
     "metadata": {},
     "output_type": "display_data"
    },
    {
     "data": {
      "application/vnd.jupyter.widget-view+json": {
       "model_id": "867440de74a14e25a113b7ca42b0b10c",
       "version_major": 2,
       "version_minor": 0
      },
      "text/plain": [
       "  0%|          | 0/100 [00:00<?, ?it/s]"
      ]
     },
     "metadata": {},
     "output_type": "display_data"
    },
    {
     "data": {
      "application/vnd.jupyter.widget-view+json": {
       "model_id": "3e66daf920a44c13b534ee37fe061dbb",
       "version_major": 2,
       "version_minor": 0
      },
      "text/plain": [
       "  0%|          | 0/100 [00:00<?, ?it/s]"
      ]
     },
     "metadata": {},
     "output_type": "display_data"
    },
    {
     "data": {
      "application/vnd.jupyter.widget-view+json": {
       "model_id": "cab375c295b74c5aad164dae60a0dae0",
       "version_major": 2,
       "version_minor": 0
      },
      "text/plain": [
       "  0%|          | 0/100 [00:00<?, ?it/s]"
      ]
     },
     "metadata": {},
     "output_type": "display_data"
    },
    {
     "data": {
      "application/vnd.jupyter.widget-view+json": {
       "model_id": "cc857cef7ba945f4a2bec38950ff75b3",
       "version_major": 2,
       "version_minor": 0
      },
      "text/plain": [
       "  0%|          | 0/100 [00:00<?, ?it/s]"
      ]
     },
     "metadata": {},
     "output_type": "display_data"
    },
    {
     "data": {
      "application/vnd.jupyter.widget-view+json": {
       "model_id": "b0e882b5335a42248d62516e7323fde3",
       "version_major": 2,
       "version_minor": 0
      },
      "text/plain": [
       "  0%|          | 0/100 [00:00<?, ?it/s]"
      ]
     },
     "metadata": {},
     "output_type": "display_data"
    },
    {
     "data": {
      "application/vnd.jupyter.widget-view+json": {
       "model_id": "283b2a0d376d4eb5b3f2d8d6186907fa",
       "version_major": 2,
       "version_minor": 0
      },
      "text/plain": [
       "  0%|          | 0/100 [00:00<?, ?it/s]"
      ]
     },
     "metadata": {},
     "output_type": "display_data"
    },
    {
     "data": {
      "application/vnd.jupyter.widget-view+json": {
       "model_id": "f31a3ecf5d9640bbbdd259c7ebdaaf13",
       "version_major": 2,
       "version_minor": 0
      },
      "text/plain": [
       "  0%|          | 0/100 [00:00<?, ?it/s]"
      ]
     },
     "metadata": {},
     "output_type": "display_data"
    },
    {
     "data": {
      "application/vnd.jupyter.widget-view+json": {
       "model_id": "222580f96e544e16870f2d56f1aba2e0",
       "version_major": 2,
       "version_minor": 0
      },
      "text/plain": [
       "  0%|          | 0/100 [00:00<?, ?it/s]"
      ]
     },
     "metadata": {},
     "output_type": "display_data"
    },
    {
     "data": {
      "application/vnd.jupyter.widget-view+json": {
       "model_id": "04bbee48a2a04b0d9020833e4fe24057",
       "version_major": 2,
       "version_minor": 0
      },
      "text/plain": [
       "  0%|          | 0/100 [00:00<?, ?it/s]"
      ]
     },
     "metadata": {},
     "output_type": "display_data"
    },
    {
     "data": {
      "application/vnd.jupyter.widget-view+json": {
       "model_id": "8ea55fa3520e43e4b6dcf1e31fee2552",
       "version_major": 2,
       "version_minor": 0
      },
      "text/plain": [
       "  0%|          | 0/100 [00:00<?, ?it/s]"
      ]
     },
     "metadata": {},
     "output_type": "display_data"
    },
    {
     "data": {
      "application/vnd.jupyter.widget-view+json": {
       "model_id": "351e47d067d840eab655ea0a01c500cb",
       "version_major": 2,
       "version_minor": 0
      },
      "text/plain": [
       "  0%|          | 0/100 [00:00<?, ?it/s]"
      ]
     },
     "metadata": {},
     "output_type": "display_data"
    },
    {
     "data": {
      "application/vnd.jupyter.widget-view+json": {
       "model_id": "74f7a68f2e5d48d7a08f9aca2fdcea3c",
       "version_major": 2,
       "version_minor": 0
      },
      "text/plain": [
       "  0%|          | 0/100 [00:00<?, ?it/s]"
      ]
     },
     "metadata": {},
     "output_type": "display_data"
    },
    {
     "data": {
      "application/vnd.jupyter.widget-view+json": {
       "model_id": "60c50126822d43c8b932f4f9bffc5c84",
       "version_major": 2,
       "version_minor": 0
      },
      "text/plain": [
       "  0%|          | 0/100 [00:00<?, ?it/s]"
      ]
     },
     "metadata": {},
     "output_type": "display_data"
    },
    {
     "data": {
      "application/vnd.jupyter.widget-view+json": {
       "model_id": "3dca7c60074046e38c705c9f2b9da163",
       "version_major": 2,
       "version_minor": 0
      },
      "text/plain": [
       "  0%|          | 0/100 [00:00<?, ?it/s]"
      ]
     },
     "metadata": {},
     "output_type": "display_data"
    },
    {
     "data": {
      "application/vnd.jupyter.widget-view+json": {
       "model_id": "dcd53eab46cc4351aeac830a8979fcc4",
       "version_major": 2,
       "version_minor": 0
      },
      "text/plain": [
       "  0%|          | 0/100 [00:00<?, ?it/s]"
      ]
     },
     "metadata": {},
     "output_type": "display_data"
    },
    {
     "data": {
      "application/vnd.jupyter.widget-view+json": {
       "model_id": "28df1e78df0942bc917ea57dd4ee873b",
       "version_major": 2,
       "version_minor": 0
      },
      "text/plain": [
       "  0%|          | 0/100 [00:00<?, ?it/s]"
      ]
     },
     "metadata": {},
     "output_type": "display_data"
    },
    {
     "data": {
      "application/vnd.jupyter.widget-view+json": {
       "model_id": "4ff9710f52fb4eb0b4f74c4f12f05b11",
       "version_major": 2,
       "version_minor": 0
      },
      "text/plain": [
       "  0%|          | 0/100 [00:00<?, ?it/s]"
      ]
     },
     "metadata": {},
     "output_type": "display_data"
    },
    {
     "data": {
      "application/vnd.jupyter.widget-view+json": {
       "model_id": "63d610a14ee84b3fac46383ae49263d3",
       "version_major": 2,
       "version_minor": 0
      },
      "text/plain": [
       "  0%|          | 0/100 [00:00<?, ?it/s]"
      ]
     },
     "metadata": {},
     "output_type": "display_data"
    },
    {
     "data": {
      "application/vnd.jupyter.widget-view+json": {
       "model_id": "8222ba3dc6eb4e8e8e0af9b3d5b5a527",
       "version_major": 2,
       "version_minor": 0
      },
      "text/plain": [
       "  0%|          | 0/100 [00:00<?, ?it/s]"
      ]
     },
     "metadata": {},
     "output_type": "display_data"
    },
    {
     "data": {
      "application/vnd.jupyter.widget-view+json": {
       "model_id": "f70834253b654c1daa33b455eb23d56f",
       "version_major": 2,
       "version_minor": 0
      },
      "text/plain": [
       "  0%|          | 0/100 [00:00<?, ?it/s]"
      ]
     },
     "metadata": {},
     "output_type": "display_data"
    },
    {
     "data": {
      "application/vnd.jupyter.widget-view+json": {
       "model_id": "9df0234bc0164bdcaa8d6d744df23b02",
       "version_major": 2,
       "version_minor": 0
      },
      "text/plain": [
       "  0%|          | 0/100 [00:00<?, ?it/s]"
      ]
     },
     "metadata": {},
     "output_type": "display_data"
    },
    {
     "data": {
      "application/vnd.jupyter.widget-view+json": {
       "model_id": "41b5106ac79148fd8f45d33063e1c033",
       "version_major": 2,
       "version_minor": 0
      },
      "text/plain": [
       "  0%|          | 0/100 [00:00<?, ?it/s]"
      ]
     },
     "metadata": {},
     "output_type": "display_data"
    },
    {
     "data": {
      "application/vnd.jupyter.widget-view+json": {
       "model_id": "27d8add7ab6f47c4b4051cbfa3cbe097",
       "version_major": 2,
       "version_minor": 0
      },
      "text/plain": [
       "  0%|          | 0/100 [00:00<?, ?it/s]"
      ]
     },
     "metadata": {},
     "output_type": "display_data"
    },
    {
     "data": {
      "application/vnd.jupyter.widget-view+json": {
       "model_id": "9ec20c2526c64c1493b5065e91ed1a35",
       "version_major": 2,
       "version_minor": 0
      },
      "text/plain": [
       "  0%|          | 0/100 [00:00<?, ?it/s]"
      ]
     },
     "metadata": {},
     "output_type": "display_data"
    },
    {
     "data": {
      "application/vnd.jupyter.widget-view+json": {
       "model_id": "c4535ee697e74e7d8cb01dc33a54b9ee",
       "version_major": 2,
       "version_minor": 0
      },
      "text/plain": [
       "  0%|          | 0/100 [00:00<?, ?it/s]"
      ]
     },
     "metadata": {},
     "output_type": "display_data"
    },
    {
     "data": {
      "application/vnd.jupyter.widget-view+json": {
       "model_id": "c7f2a73501c9450f82bf4ab13ee8bf90",
       "version_major": 2,
       "version_minor": 0
      },
      "text/plain": [
       "  0%|          | 0/100 [00:00<?, ?it/s]"
      ]
     },
     "metadata": {},
     "output_type": "display_data"
    },
    {
     "data": {
      "application/vnd.jupyter.widget-view+json": {
       "model_id": "0aa4d4e61aeb4211aa503e2338f79c2b",
       "version_major": 2,
       "version_minor": 0
      },
      "text/plain": [
       "  0%|          | 0/100 [00:00<?, ?it/s]"
      ]
     },
     "metadata": {},
     "output_type": "display_data"
    },
    {
     "data": {
      "application/vnd.jupyter.widget-view+json": {
       "model_id": "416cb73cf1d6414a9f024a7c682ec748",
       "version_major": 2,
       "version_minor": 0
      },
      "text/plain": [
       "  0%|          | 0/100 [00:00<?, ?it/s]"
      ]
     },
     "metadata": {},
     "output_type": "display_data"
    },
    {
     "data": {
      "application/vnd.jupyter.widget-view+json": {
       "model_id": "d24eaf051a324b2da43b6bc062fdb0ce",
       "version_major": 2,
       "version_minor": 0
      },
      "text/plain": [
       "  0%|          | 0/100 [00:00<?, ?it/s]"
      ]
     },
     "metadata": {},
     "output_type": "display_data"
    },
    {
     "data": {
      "application/vnd.jupyter.widget-view+json": {
       "model_id": "5226a8dd8fa34cd3912db1f7ee7817a3",
       "version_major": 2,
       "version_minor": 0
      },
      "text/plain": [
       "  0%|          | 0/100 [00:00<?, ?it/s]"
      ]
     },
     "metadata": {},
     "output_type": "display_data"
    },
    {
     "data": {
      "application/vnd.jupyter.widget-view+json": {
       "model_id": "a1b4eb9147cc440499915c9f09b8295f",
       "version_major": 2,
       "version_minor": 0
      },
      "text/plain": [
       "  0%|          | 0/100 [00:00<?, ?it/s]"
      ]
     },
     "metadata": {},
     "output_type": "display_data"
    },
    {
     "data": {
      "application/vnd.jupyter.widget-view+json": {
       "model_id": "c9c3d373c0e6463eaaea17a4a20b95bd",
       "version_major": 2,
       "version_minor": 0
      },
      "text/plain": [
       "  0%|          | 0/100 [00:00<?, ?it/s]"
      ]
     },
     "metadata": {},
     "output_type": "display_data"
    },
    {
     "data": {
      "application/vnd.jupyter.widget-view+json": {
       "model_id": "ca34e2a34fa848918993abf0d15ae2dc",
       "version_major": 2,
       "version_minor": 0
      },
      "text/plain": [
       "  0%|          | 0/100 [00:00<?, ?it/s]"
      ]
     },
     "metadata": {},
     "output_type": "display_data"
    },
    {
     "data": {
      "application/vnd.jupyter.widget-view+json": {
       "model_id": "8aa758bd7f554c20a40c641a9822131e",
       "version_major": 2,
       "version_minor": 0
      },
      "text/plain": [
       "  0%|          | 0/100 [00:00<?, ?it/s]"
      ]
     },
     "metadata": {},
     "output_type": "display_data"
    },
    {
     "data": {
      "application/vnd.jupyter.widget-view+json": {
       "model_id": "1b7d4e69e2db449aad4a0ab8fe7cc2d4",
       "version_major": 2,
       "version_minor": 0
      },
      "text/plain": [
       "  0%|          | 0/100 [00:00<?, ?it/s]"
      ]
     },
     "metadata": {},
     "output_type": "display_data"
    },
    {
     "data": {
      "application/vnd.jupyter.widget-view+json": {
       "model_id": "f0f59d40d0b243629e65b12850009e87",
       "version_major": 2,
       "version_minor": 0
      },
      "text/plain": [
       "  0%|          | 0/100 [00:00<?, ?it/s]"
      ]
     },
     "metadata": {},
     "output_type": "display_data"
    },
    {
     "data": {
      "application/vnd.jupyter.widget-view+json": {
       "model_id": "f8a459417a614fb7beceef132365ba6e",
       "version_major": 2,
       "version_minor": 0
      },
      "text/plain": [
       "  0%|          | 0/100 [00:00<?, ?it/s]"
      ]
     },
     "metadata": {},
     "output_type": "display_data"
    },
    {
     "data": {
      "application/vnd.jupyter.widget-view+json": {
       "model_id": "679fb95169e0415f8177610c1eacac31",
       "version_major": 2,
       "version_minor": 0
      },
      "text/plain": [
       "  0%|          | 0/100 [00:00<?, ?it/s]"
      ]
     },
     "metadata": {},
     "output_type": "display_data"
    },
    {
     "data": {
      "application/vnd.jupyter.widget-view+json": {
       "model_id": "422a388baaaa41ae9707269350c514dd",
       "version_major": 2,
       "version_minor": 0
      },
      "text/plain": [
       "  0%|          | 0/100 [00:00<?, ?it/s]"
      ]
     },
     "metadata": {},
     "output_type": "display_data"
    },
    {
     "data": {
      "application/vnd.jupyter.widget-view+json": {
       "model_id": "196b22f58d6a448a9067301c0efc1ab8",
       "version_major": 2,
       "version_minor": 0
      },
      "text/plain": [
       "  0%|          | 0/100 [00:00<?, ?it/s]"
      ]
     },
     "metadata": {},
     "output_type": "display_data"
    },
    {
     "data": {
      "application/vnd.jupyter.widget-view+json": {
       "model_id": "1a383ba45aad4cf08859ec8ecd45d7cd",
       "version_major": 2,
       "version_minor": 0
      },
      "text/plain": [
       "  0%|          | 0/100 [00:00<?, ?it/s]"
      ]
     },
     "metadata": {},
     "output_type": "display_data"
    },
    {
     "data": {
      "application/vnd.jupyter.widget-view+json": {
       "model_id": "47800597639a4af588d65a91a653c8cf",
       "version_major": 2,
       "version_minor": 0
      },
      "text/plain": [
       "  0%|          | 0/100 [00:00<?, ?it/s]"
      ]
     },
     "metadata": {},
     "output_type": "display_data"
    },
    {
     "data": {
      "application/vnd.jupyter.widget-view+json": {
       "model_id": "35796e98abac4787bdbd9318048e99f3",
       "version_major": 2,
       "version_minor": 0
      },
      "text/plain": [
       "  0%|          | 0/100 [00:00<?, ?it/s]"
      ]
     },
     "metadata": {},
     "output_type": "display_data"
    },
    {
     "data": {
      "application/vnd.jupyter.widget-view+json": {
       "model_id": "79eb7ec65c074f839e288e7c356d661d",
       "version_major": 2,
       "version_minor": 0
      },
      "text/plain": [
       "  0%|          | 0/100 [00:00<?, ?it/s]"
      ]
     },
     "metadata": {},
     "output_type": "display_data"
    },
    {
     "data": {
      "application/vnd.jupyter.widget-view+json": {
       "model_id": "da0f1f3b83364821a1e0e2353e471046",
       "version_major": 2,
       "version_minor": 0
      },
      "text/plain": [
       "  0%|          | 0/100 [00:00<?, ?it/s]"
      ]
     },
     "metadata": {},
     "output_type": "display_data"
    },
    {
     "data": {
      "application/vnd.jupyter.widget-view+json": {
       "model_id": "2a6e06fb9d6a459c8fe0ac3eea7eaed4",
       "version_major": 2,
       "version_minor": 0
      },
      "text/plain": [
       "  0%|          | 0/100 [00:00<?, ?it/s]"
      ]
     },
     "metadata": {},
     "output_type": "display_data"
    },
    {
     "data": {
      "application/vnd.jupyter.widget-view+json": {
       "model_id": "44a0ecbf3f8a43f29dec5648b356f352",
       "version_major": 2,
       "version_minor": 0
      },
      "text/plain": [
       "  0%|          | 0/100 [00:00<?, ?it/s]"
      ]
     },
     "metadata": {},
     "output_type": "display_data"
    },
    {
     "data": {
      "application/vnd.jupyter.widget-view+json": {
       "model_id": "3adca5878efb4733995925217d6d5364",
       "version_major": 2,
       "version_minor": 0
      },
      "text/plain": [
       "  0%|          | 0/100 [00:00<?, ?it/s]"
      ]
     },
     "metadata": {},
     "output_type": "display_data"
    },
    {
     "data": {
      "application/vnd.jupyter.widget-view+json": {
       "model_id": "f409f46b714f478b926b23ffc7c0b52e",
       "version_major": 2,
       "version_minor": 0
      },
      "text/plain": [
       "  0%|          | 0/100 [00:00<?, ?it/s]"
      ]
     },
     "metadata": {},
     "output_type": "display_data"
    },
    {
     "data": {
      "application/vnd.jupyter.widget-view+json": {
       "model_id": "270538816fd640c4872175fa3442d786",
       "version_major": 2,
       "version_minor": 0
      },
      "text/plain": [
       "  0%|          | 0/100 [00:00<?, ?it/s]"
      ]
     },
     "metadata": {},
     "output_type": "display_data"
    },
    {
     "data": {
      "application/vnd.jupyter.widget-view+json": {
       "model_id": "8207fad7409148c18aa8b95c7e2c8164",
       "version_major": 2,
       "version_minor": 0
      },
      "text/plain": [
       "  0%|          | 0/100 [00:00<?, ?it/s]"
      ]
     },
     "metadata": {},
     "output_type": "display_data"
    },
    {
     "data": {
      "application/vnd.jupyter.widget-view+json": {
       "model_id": "ace776525f094e0c95bad123d3a4ce92",
       "version_major": 2,
       "version_minor": 0
      },
      "text/plain": [
       "  0%|          | 0/100 [00:00<?, ?it/s]"
      ]
     },
     "metadata": {},
     "output_type": "display_data"
    },
    {
     "data": {
      "application/vnd.jupyter.widget-view+json": {
       "model_id": "62040862889a47cfa4d5aec69c59dc3a",
       "version_major": 2,
       "version_minor": 0
      },
      "text/plain": [
       "  0%|          | 0/100 [00:00<?, ?it/s]"
      ]
     },
     "metadata": {},
     "output_type": "display_data"
    },
    {
     "data": {
      "application/vnd.jupyter.widget-view+json": {
       "model_id": "30d5ea24866a41c5a46e12744bb8c323",
       "version_major": 2,
       "version_minor": 0
      },
      "text/plain": [
       "  0%|          | 0/100 [00:00<?, ?it/s]"
      ]
     },
     "metadata": {},
     "output_type": "display_data"
    },
    {
     "data": {
      "application/vnd.jupyter.widget-view+json": {
       "model_id": "b1b3b385f2a640e6bc8a6ae9ad2c3f36",
       "version_major": 2,
       "version_minor": 0
      },
      "text/plain": [
       "  0%|          | 0/100 [00:00<?, ?it/s]"
      ]
     },
     "metadata": {},
     "output_type": "display_data"
    },
    {
     "data": {
      "application/vnd.jupyter.widget-view+json": {
       "model_id": "153985b0f8e748ddbe68ec0a49872b7f",
       "version_major": 2,
       "version_minor": 0
      },
      "text/plain": [
       "  0%|          | 0/100 [00:00<?, ?it/s]"
      ]
     },
     "metadata": {},
     "output_type": "display_data"
    },
    {
     "data": {
      "application/vnd.jupyter.widget-view+json": {
       "model_id": "bc6e2721da404563ae98f3ec8e096e32",
       "version_major": 2,
       "version_minor": 0
      },
      "text/plain": [
       "  0%|          | 0/100 [00:00<?, ?it/s]"
      ]
     },
     "metadata": {},
     "output_type": "display_data"
    },
    {
     "data": {
      "application/vnd.jupyter.widget-view+json": {
       "model_id": "8627546dafc24750abb6109db2259e9d",
       "version_major": 2,
       "version_minor": 0
      },
      "text/plain": [
       "  0%|          | 0/100 [00:00<?, ?it/s]"
      ]
     },
     "metadata": {},
     "output_type": "display_data"
    },
    {
     "data": {
      "application/vnd.jupyter.widget-view+json": {
       "model_id": "ffe4b41957374bd2bef4d16d3f6c677a",
       "version_major": 2,
       "version_minor": 0
      },
      "text/plain": [
       "  0%|          | 0/100 [00:00<?, ?it/s]"
      ]
     },
     "metadata": {},
     "output_type": "display_data"
    },
    {
     "data": {
      "application/vnd.jupyter.widget-view+json": {
       "model_id": "04b2514b0d5948bc9f8d2ef2cd8fb059",
       "version_major": 2,
       "version_minor": 0
      },
      "text/plain": [
       "  0%|          | 0/100 [00:00<?, ?it/s]"
      ]
     },
     "metadata": {},
     "output_type": "display_data"
    },
    {
     "data": {
      "text/html": [
       "<div>\n",
       "<style scoped>\n",
       "    .dataframe tbody tr th:only-of-type {\n",
       "        vertical-align: middle;\n",
       "    }\n",
       "\n",
       "    .dataframe tbody tr th {\n",
       "        vertical-align: top;\n",
       "    }\n",
       "\n",
       "    .dataframe thead th {\n",
       "        text-align: right;\n",
       "    }\n",
       "</style>\n",
       "<table border=\"1\" class=\"dataframe\">\n",
       "  <thead>\n",
       "    <tr style=\"text-align: right;\">\n",
       "      <th></th>\n",
       "      <th>country_code</th>\n",
       "      <th>quantile</th>\n",
       "      <th>c_parent</th>\n",
       "    </tr>\n",
       "  </thead>\n",
       "  <tbody>\n",
       "    <tr>\n",
       "      <th>0</th>\n",
       "      <td>PHL</td>\n",
       "      <td>1</td>\n",
       "      <td>1</td>\n",
       "    </tr>\n",
       "    <tr>\n",
       "      <th>1</th>\n",
       "      <td>PHL</td>\n",
       "      <td>1</td>\n",
       "      <td>1</td>\n",
       "    </tr>\n",
       "    <tr>\n",
       "      <th>2</th>\n",
       "      <td>PHL</td>\n",
       "      <td>1</td>\n",
       "      <td>1</td>\n",
       "    </tr>\n",
       "    <tr>\n",
       "      <th>3</th>\n",
       "      <td>PHL</td>\n",
       "      <td>1</td>\n",
       "      <td>1</td>\n",
       "    </tr>\n",
       "    <tr>\n",
       "      <th>4</th>\n",
       "      <td>PHL</td>\n",
       "      <td>1</td>\n",
       "      <td>1</td>\n",
       "    </tr>\n",
       "    <tr>\n",
       "      <th>...</th>\n",
       "      <td>...</td>\n",
       "      <td>...</td>\n",
       "      <td>...</td>\n",
       "    </tr>\n",
       "    <tr>\n",
       "      <th>3899995</th>\n",
       "      <td>NGA</td>\n",
       "      <td>100</td>\n",
       "      <td>100</td>\n",
       "    </tr>\n",
       "    <tr>\n",
       "      <th>3899996</th>\n",
       "      <td>NGA</td>\n",
       "      <td>100</td>\n",
       "      <td>100</td>\n",
       "    </tr>\n",
       "    <tr>\n",
       "      <th>3899997</th>\n",
       "      <td>NGA</td>\n",
       "      <td>100</td>\n",
       "      <td>100</td>\n",
       "    </tr>\n",
       "    <tr>\n",
       "      <th>3899998</th>\n",
       "      <td>NGA</td>\n",
       "      <td>100</td>\n",
       "      <td>100</td>\n",
       "    </tr>\n",
       "    <tr>\n",
       "      <th>3899999</th>\n",
       "      <td>NGA</td>\n",
       "      <td>100</td>\n",
       "      <td>100</td>\n",
       "    </tr>\n",
       "  </tbody>\n",
       "</table>\n",
       "<p>3900000 rows × 3 columns</p>\n",
       "</div>"
      ],
      "text/plain": [
       "        country_code  quantile  c_parent\n",
       "0                PHL         1         1\n",
       "1                PHL         1         1\n",
       "2                PHL         1         1\n",
       "3                PHL         1         1\n",
       "4                PHL         1         1\n",
       "...              ...       ...       ...\n",
       "3899995          NGA       100       100\n",
       "3899996          NGA       100       100\n",
       "3899997          NGA       100       100\n",
       "3899998          NGA       100       100\n",
       "3899999          NGA       100       100\n",
       "\n",
       "[3900000 rows x 3 columns]"
      ]
     },
     "execution_count": 23,
     "metadata": {},
     "output_type": "execute_result"
    }
   ],
   "source": [
    "from tqdm.notebook import tqdm,tnrange\n",
    "#Deleting previously created variables\n",
    "del sample, y_child, y_parents\n",
    "\n",
    "#Creating empty arrow that will store dictionnaries\n",
    "full_parent = []\n",
    "\n",
    "#Iterating over all countries\n",
    "for c in tqdm(parent_data.country_code.unique(),desc='country loop'):\n",
    "    #Creating a subset of that country\n",
    "    subset = parent_data[parent_data[\"country_code\"] == c]\n",
    "    #Extracting the coefficient of elasticity pj\n",
    "    pj = subset[\"pj\"].max()\n",
    "    #Defining variables\n",
    "    nb_quantiles = 100\n",
    "    #We take a n of 500*nb_quantiles as is required by our manager\n",
    "    n = 500*nb_quantiles\n",
    "    #Generating child and parents\n",
    "    y_child, y_parents = generate_incomes(n, pj)\n",
    "    sample = compute_quantiles(y_child, y_parents, nb_quantiles)\n",
    "    #Creating our conditional distribution\n",
    "    cd = conditional_distributions(sample, nb_quantiles)\n",
    "    del sample, y_child, y_parents\n",
    "    for q in tnrange(100):\n",
    "        for i in range(100):\n",
    "            #Counting the number of parents by multiplying the probability by the number of childs (500)\n",
    "            num_parents = int(cd[q][i]*500)\n",
    "            if (num_parents > 0):\n",
    "                #Creating those parents, quantile and c_parent are i and q+1 because we want to iterate from 1 to 100\n",
    "                dict2 = {'country_code': c, 'quantile': i+1, 'c_parent': q+1}\n",
    "                #Adding the created parents to our full_parent array\n",
    "                full_parent.extend([dict2 for i in range(num_parents)])\n",
    "#Creating a dataframe from our full_parent array\n",
    "parent_df = pd.DataFrame(full_parent)\n",
    "del full_parent\n",
    "parent_df"
   ]
  },
  {
   "cell_type": "code",
   "execution_count": 24,
   "id": "155baf05",
   "metadata": {},
   "outputs": [
    {
     "data": {
      "text/html": [
       "<div>\n",
       "<style scoped>\n",
       "    .dataframe tbody tr th:only-of-type {\n",
       "        vertical-align: middle;\n",
       "    }\n",
       "\n",
       "    .dataframe tbody tr th {\n",
       "        vertical-align: top;\n",
       "    }\n",
       "\n",
       "    .dataframe thead th {\n",
       "        text-align: right;\n",
       "    }\n",
       "</style>\n",
       "<table border=\"1\" class=\"dataframe\">\n",
       "  <thead>\n",
       "    <tr style=\"text-align: right;\">\n",
       "      <th></th>\n",
       "      <th>country_code</th>\n",
       "      <th>quantile</th>\n",
       "      <th>c_parent</th>\n",
       "      <th>country_name</th>\n",
       "      <th>year</th>\n",
       "      <th>gini</th>\n",
       "      <th>population</th>\n",
       "      <th>income</th>\n",
       "      <th>gdpppp</th>\n",
       "      <th>mean_income</th>\n",
       "    </tr>\n",
       "  </thead>\n",
       "  <tbody>\n",
       "    <tr>\n",
       "      <th>0</th>\n",
       "      <td>PHL</td>\n",
       "      <td>1</td>\n",
       "      <td>1</td>\n",
       "      <td>Philippines</td>\n",
       "      <td>2006</td>\n",
       "      <td>47.2</td>\n",
       "      <td>87888675.0</td>\n",
       "      <td>213.1265</td>\n",
       "      <td>3240.0</td>\n",
       "      <td>1474.062856</td>\n",
       "    </tr>\n",
       "    <tr>\n",
       "      <th>1</th>\n",
       "      <td>PHL</td>\n",
       "      <td>1</td>\n",
       "      <td>1</td>\n",
       "      <td>Philippines</td>\n",
       "      <td>2006</td>\n",
       "      <td>47.2</td>\n",
       "      <td>87888675.0</td>\n",
       "      <td>213.1265</td>\n",
       "      <td>3240.0</td>\n",
       "      <td>1474.062856</td>\n",
       "    </tr>\n",
       "    <tr>\n",
       "      <th>2</th>\n",
       "      <td>PHL</td>\n",
       "      <td>1</td>\n",
       "      <td>1</td>\n",
       "      <td>Philippines</td>\n",
       "      <td>2006</td>\n",
       "      <td>47.2</td>\n",
       "      <td>87888675.0</td>\n",
       "      <td>213.1265</td>\n",
       "      <td>3240.0</td>\n",
       "      <td>1474.062856</td>\n",
       "    </tr>\n",
       "    <tr>\n",
       "      <th>3</th>\n",
       "      <td>PHL</td>\n",
       "      <td>1</td>\n",
       "      <td>1</td>\n",
       "      <td>Philippines</td>\n",
       "      <td>2006</td>\n",
       "      <td>47.2</td>\n",
       "      <td>87888675.0</td>\n",
       "      <td>213.1265</td>\n",
       "      <td>3240.0</td>\n",
       "      <td>1474.062856</td>\n",
       "    </tr>\n",
       "    <tr>\n",
       "      <th>4</th>\n",
       "      <td>PHL</td>\n",
       "      <td>1</td>\n",
       "      <td>1</td>\n",
       "      <td>Philippines</td>\n",
       "      <td>2006</td>\n",
       "      <td>47.2</td>\n",
       "      <td>87888675.0</td>\n",
       "      <td>213.1265</td>\n",
       "      <td>3240.0</td>\n",
       "      <td>1474.062856</td>\n",
       "    </tr>\n",
       "  </tbody>\n",
       "</table>\n",
       "</div>"
      ],
      "text/plain": [
       "  country_code  quantile  c_parent country_name  year  gini  population  \\\n",
       "0          PHL         1         1  Philippines  2006  47.2  87888675.0   \n",
       "1          PHL         1         1  Philippines  2006  47.2  87888675.0   \n",
       "2          PHL         1         1  Philippines  2006  47.2  87888675.0   \n",
       "3          PHL         1         1  Philippines  2006  47.2  87888675.0   \n",
       "4          PHL         1         1  Philippines  2006  47.2  87888675.0   \n",
       "\n",
       "     income  gdpppp  mean_income  \n",
       "0  213.1265  3240.0  1474.062856  \n",
       "1  213.1265  3240.0  1474.062856  \n",
       "2  213.1265  3240.0  1474.062856  \n",
       "3  213.1265  3240.0  1474.062856  \n",
       "4  213.1265  3240.0  1474.062856  "
      ]
     },
     "execution_count": 24,
     "metadata": {},
     "output_type": "execute_result"
    }
   ],
   "source": [
    "#Merging the created database with our data\n",
    "\n",
    "#First we create the mean_income by country that we will use in our models\n",
    "#Aggreagating by country_code and averaging the income\n",
    "mean = data[[\"country_code\",\"income\"]].groupby(\"country_code\").mean().reset_index()\n",
    "\n",
    "#Renaming the columns\n",
    "mean.columns=[\"country_code\",\"mean_income\"]\n",
    "\n",
    "#Adding the mean column to our dataset\n",
    "data_full = data.merge(mean, how=\"inner\", on=\"country_code\")\n",
    "\n",
    "#Adding all the data to our dataframe\n",
    "\n",
    "df = parent_df.merge(data_full, how=\"inner\",on=[\"country_code\",\"quantile\"])\n",
    "\n",
    "df.head()"
   ]
  },
  {
   "cell_type": "code",
   "execution_count": 25,
   "id": "7cf99fe7",
   "metadata": {},
   "outputs": [
    {
     "data": {
      "text/html": [
       "<div>\n",
       "<style scoped>\n",
       "    .dataframe tbody tr th:only-of-type {\n",
       "        vertical-align: middle;\n",
       "    }\n",
       "\n",
       "    .dataframe tbody tr th {\n",
       "        vertical-align: top;\n",
       "    }\n",
       "\n",
       "    .dataframe thead th {\n",
       "        text-align: right;\n",
       "    }\n",
       "</style>\n",
       "<table border=\"1\" class=\"dataframe\">\n",
       "  <thead>\n",
       "    <tr style=\"text-align: right;\">\n",
       "      <th></th>\n",
       "      <th>country_code</th>\n",
       "      <th>quantile</th>\n",
       "      <th>c_parent</th>\n",
       "      <th>country_name</th>\n",
       "      <th>year</th>\n",
       "      <th>gini</th>\n",
       "      <th>population</th>\n",
       "      <th>income</th>\n",
       "      <th>gdpppp</th>\n",
       "      <th>mean_income</th>\n",
       "      <th>ln_income</th>\n",
       "      <th>ln_mean_income</th>\n",
       "    </tr>\n",
       "  </thead>\n",
       "  <tbody>\n",
       "    <tr>\n",
       "      <th>0</th>\n",
       "      <td>PHL</td>\n",
       "      <td>1</td>\n",
       "      <td>1</td>\n",
       "      <td>Philippines</td>\n",
       "      <td>2006</td>\n",
       "      <td>47.2</td>\n",
       "      <td>87888675.0</td>\n",
       "      <td>213.1265</td>\n",
       "      <td>3240.0</td>\n",
       "      <td>1474.062856</td>\n",
       "      <td>5.361886</td>\n",
       "      <td>7.295778</td>\n",
       "    </tr>\n",
       "    <tr>\n",
       "      <th>1</th>\n",
       "      <td>PHL</td>\n",
       "      <td>1</td>\n",
       "      <td>1</td>\n",
       "      <td>Philippines</td>\n",
       "      <td>2006</td>\n",
       "      <td>47.2</td>\n",
       "      <td>87888675.0</td>\n",
       "      <td>213.1265</td>\n",
       "      <td>3240.0</td>\n",
       "      <td>1474.062856</td>\n",
       "      <td>5.361886</td>\n",
       "      <td>7.295778</td>\n",
       "    </tr>\n",
       "    <tr>\n",
       "      <th>2</th>\n",
       "      <td>PHL</td>\n",
       "      <td>1</td>\n",
       "      <td>1</td>\n",
       "      <td>Philippines</td>\n",
       "      <td>2006</td>\n",
       "      <td>47.2</td>\n",
       "      <td>87888675.0</td>\n",
       "      <td>213.1265</td>\n",
       "      <td>3240.0</td>\n",
       "      <td>1474.062856</td>\n",
       "      <td>5.361886</td>\n",
       "      <td>7.295778</td>\n",
       "    </tr>\n",
       "    <tr>\n",
       "      <th>3</th>\n",
       "      <td>PHL</td>\n",
       "      <td>1</td>\n",
       "      <td>1</td>\n",
       "      <td>Philippines</td>\n",
       "      <td>2006</td>\n",
       "      <td>47.2</td>\n",
       "      <td>87888675.0</td>\n",
       "      <td>213.1265</td>\n",
       "      <td>3240.0</td>\n",
       "      <td>1474.062856</td>\n",
       "      <td>5.361886</td>\n",
       "      <td>7.295778</td>\n",
       "    </tr>\n",
       "    <tr>\n",
       "      <th>4</th>\n",
       "      <td>PHL</td>\n",
       "      <td>1</td>\n",
       "      <td>1</td>\n",
       "      <td>Philippines</td>\n",
       "      <td>2006</td>\n",
       "      <td>47.2</td>\n",
       "      <td>87888675.0</td>\n",
       "      <td>213.1265</td>\n",
       "      <td>3240.0</td>\n",
       "      <td>1474.062856</td>\n",
       "      <td>5.361886</td>\n",
       "      <td>7.295778</td>\n",
       "    </tr>\n",
       "  </tbody>\n",
       "</table>\n",
       "</div>"
      ],
      "text/plain": [
       "  country_code  quantile  c_parent country_name  year  gini  population  \\\n",
       "0          PHL         1         1  Philippines  2006  47.2  87888675.0   \n",
       "1          PHL         1         1  Philippines  2006  47.2  87888675.0   \n",
       "2          PHL         1         1  Philippines  2006  47.2  87888675.0   \n",
       "3          PHL         1         1  Philippines  2006  47.2  87888675.0   \n",
       "4          PHL         1         1  Philippines  2006  47.2  87888675.0   \n",
       "\n",
       "     income  gdpppp  mean_income  ln_income  ln_mean_income  \n",
       "0  213.1265  3240.0  1474.062856   5.361886        7.295778  \n",
       "1  213.1265  3240.0  1474.062856   5.361886        7.295778  \n",
       "2  213.1265  3240.0  1474.062856   5.361886        7.295778  \n",
       "3  213.1265  3240.0  1474.062856   5.361886        7.295778  \n",
       "4  213.1265  3240.0  1474.062856   5.361886        7.295778  "
      ]
     },
     "execution_count": 25,
     "metadata": {},
     "output_type": "execute_result"
    }
   ],
   "source": [
    "#Creating logarithmic values of income and mean_income\n",
    "df[\"ln_income\"] = np.log(df['income'])\n",
    "df[\"ln_mean_income\"] = np.log(df['mean_income'])\n",
    "\n",
    "df.head()"
   ]
  },
  {
   "cell_type": "markdown",
   "id": "e0cfcf3f",
   "metadata": {},
   "source": [
    "## 4. Creating test models\n",
    "\n",
    "### 4.1 ANOVA\n",
    "\n",
    "We will first create an ANOVA model with the individual's country as the only explanatory variable"
   ]
  },
  {
   "cell_type": "code",
   "execution_count": 26,
   "id": "6e35d03a",
   "metadata": {},
   "outputs": [
    {
     "data": {
      "application/vnd.jupyter.widget-view+json": {
       "model_id": "0d92efa9ecaf440797551bb251c7ea69",
       "version_major": 2,
       "version_minor": 0
      },
      "text/plain": [
       "  0%|          | 0/2 [00:00<?, ?it/s]"
      ]
     },
     "metadata": {},
     "output_type": "display_data"
    },
    {
     "name": "stdout",
     "output_type": "stream",
     "text": [
      "                        df        sum_sq       mean_sq           F  PR(>F)\n",
      "C(country_name)       77.0  1.942631e+14  2.522898e+12  46367.4047     0.0\n",
      "Residual         3899922.0  2.121987e+14  5.441102e+07         NaN     NaN\n",
      "ETA² =  0.48\n",
      "                        df        sum_sq       mean_sq              F  PR(>F)\n",
      "C(country_name)       77.0  5.621182e+06  73002.368959  137211.538359     0.0\n",
      "Residual         3899922.0  2.074924e+06      0.532042            NaN     NaN\n",
      "ETA² =  0.73\n"
     ]
    }
   ],
   "source": [
    "#Importing modules\n",
    "import statsmodels.api as sm\n",
    "from statsmodels.formula.api import ols\n",
    "\n",
    "#Defining the formulas\n",
    "\n",
    "formulas = ['income ~ C(country_name)',\n",
    "           'ln_income ~ C(country_name)']\n",
    "\n",
    "for f in tqdm(formulas):\n",
    "    #Creating our model\n",
    "    mod = ols(f,data=df).fit()\n",
    "    #Calculating aov table                \n",
    "    aov_table = sm.stats.anova_lm(mod)\n",
    "    print(aov_table)\n",
    "\n",
    "    #Calculating eta²\n",
    "    esq_sm = aov_table['sum_sq'][0]/(aov_table['sum_sq'][0]+aov_table['sum_sq'][1])\n",
    "    print(\"ETA² = \", round(esq_sm,2))\n"
   ]
  },
  {
   "cell_type": "markdown",
   "id": "4e8eacdb",
   "metadata": {},
   "source": [
    "The ETA² is 0.73 for the ln(income) (ETA = 0.85) which shows that there is a **high correlation** between the country and the logarithm of the income of each class.\n",
    "\n",
    "### 4.2 Linear Regression\n",
    "\n",
    "For this model we want to test 4 formulas :\n",
    "income ~ mean_income + gini\n",
    "income ~ mean_income + gini + c_paren\n",
    "\n",
    "**Disclaimer :** The code below use K(4) fold cross validation to test each formula. It takes 8 hours to run on my computer (hence the use of tqdm to be able to check the progress of the script). I have provided a screenshot of the results in the folder for this project. In hindsight, it would have been better to implement the linear regression using the sklearn module (or Spark) which is a lot more optimized."
   ]
  },
  {
   "cell_type": "code",
   "execution_count": 27,
   "id": "18035819",
   "metadata": {
    "scrolled": true
   },
   "outputs": [
    {
     "data": {
      "application/vnd.jupyter.widget-view+json": {
       "model_id": "5554aaf1612c44bb88adf87007d67610",
       "version_major": 2,
       "version_minor": 0
      },
      "text/plain": [
       "formulas:   0%|          | 0/4 [00:00<?, ?it/s]"
      ]
     },
     "metadata": {},
     "output_type": "display_data"
    },
    {
     "data": {
      "application/vnd.jupyter.widget-view+json": {
       "model_id": "a12bbccc00d8449b817d38a46ab20a24",
       "version_major": 2,
       "version_minor": 0
      },
      "text/plain": [
       "K:   0%|          | 0/4 [00:00<?, ?it/s]"
      ]
     },
     "metadata": {},
     "output_type": "display_data"
    },
    {
     "ename": "KeyboardInterrupt",
     "evalue": "",
     "output_type": "error",
     "traceback": [
      "\u001b[1;31m---------------------------------------------------------------------------\u001b[0m",
      "\u001b[1;31mKeyboardInterrupt\u001b[0m                         Traceback (most recent call last)",
      "Input \u001b[1;32mIn [27]\u001b[0m, in \u001b[0;36m<cell line: 28>\u001b[1;34m()\u001b[0m\n\u001b[0;32m     29\u001b[0m \u001b[38;5;28;01mfor\u001b[39;00m i \u001b[38;5;129;01min\u001b[39;00m tnrange(K, desc\u001b[38;5;241m=\u001b[39m\u001b[38;5;124m'\u001b[39m\u001b[38;5;124mK\u001b[39m\u001b[38;5;124m'\u001b[39m):\n\u001b[0;32m     30\u001b[0m     \u001b[38;5;66;03m#Defining our test and train subsets\u001b[39;00m\n\u001b[0;32m     31\u001b[0m     test_index  \u001b[38;5;241m=\u001b[39m indexes[i]\n\u001b[1;32m---> 32\u001b[0m     train_index \u001b[38;5;241m=\u001b[39m [idx \u001b[38;5;28;01mfor\u001b[39;00m idx \u001b[38;5;129;01min\u001b[39;00m \u001b[38;5;28mlist\u001b[39m(df_test\u001b[38;5;241m.\u001b[39mindex) \u001b[38;5;28;01mif\u001b[39;00m idx \u001b[38;5;129;01mnot\u001b[39;00m \u001b[38;5;129;01min\u001b[39;00m test_index]\n\u001b[0;32m     33\u001b[0m     train \u001b[38;5;241m=\u001b[39m df_test\u001b[38;5;241m.\u001b[39mloc[df_test\u001b[38;5;241m.\u001b[39mindex\u001b[38;5;241m.\u001b[39misin(train_index)]\n\u001b[0;32m     34\u001b[0m     test  \u001b[38;5;241m=\u001b[39m df_test\u001b[38;5;241m.\u001b[39mloc[\u001b[38;5;241m~\u001b[39mdf_test\u001b[38;5;241m.\u001b[39mindex\u001b[38;5;241m.\u001b[39misin(train_index)]\n",
      "Input \u001b[1;32mIn [27]\u001b[0m, in \u001b[0;36m<listcomp>\u001b[1;34m(.0)\u001b[0m\n\u001b[0;32m     29\u001b[0m \u001b[38;5;28;01mfor\u001b[39;00m i \u001b[38;5;129;01min\u001b[39;00m tnrange(K, desc\u001b[38;5;241m=\u001b[39m\u001b[38;5;124m'\u001b[39m\u001b[38;5;124mK\u001b[39m\u001b[38;5;124m'\u001b[39m):\n\u001b[0;32m     30\u001b[0m     \u001b[38;5;66;03m#Defining our test and train subsets\u001b[39;00m\n\u001b[0;32m     31\u001b[0m     test_index  \u001b[38;5;241m=\u001b[39m indexes[i]\n\u001b[1;32m---> 32\u001b[0m     train_index \u001b[38;5;241m=\u001b[39m [idx \u001b[38;5;28;01mfor\u001b[39;00m idx \u001b[38;5;129;01min\u001b[39;00m \u001b[38;5;28mlist\u001b[39m(df_test\u001b[38;5;241m.\u001b[39mindex) \u001b[38;5;28;01mif\u001b[39;00m idx \u001b[38;5;129;01mnot\u001b[39;00m \u001b[38;5;129;01min\u001b[39;00m test_index]\n\u001b[0;32m     33\u001b[0m     train \u001b[38;5;241m=\u001b[39m df_test\u001b[38;5;241m.\u001b[39mloc[df_test\u001b[38;5;241m.\u001b[39mindex\u001b[38;5;241m.\u001b[39misin(train_index)]\n\u001b[0;32m     34\u001b[0m     test  \u001b[38;5;241m=\u001b[39m df_test\u001b[38;5;241m.\u001b[39mloc[\u001b[38;5;241m~\u001b[39mdf_test\u001b[38;5;241m.\u001b[39mindex\u001b[38;5;241m.\u001b[39misin(train_index)]\n",
      "\u001b[1;31mKeyboardInterrupt\u001b[0m: "
     ]
    }
   ],
   "source": [
    "#Defining Root Mean Square Error\n",
    "def RMSE(resid):\n",
    "    return np.sqrt(np.square(resid).sum()) / len(resid)\n",
    "\n",
    "import statsmodels.formula.api as smf\n",
    "#Defining the formulas\n",
    "formulas = ['income ~ mean_income + gini',\n",
    "            'income ~ mean_income + gini + c_parent',\n",
    "            'ln_income ~ ln_mean_income + gini',\n",
    "            'ln_income ~ ln_mean_income + gini + c_parent']\n",
    "\n",
    "#K fold cross validation\n",
    "\n",
    "#Initializing random variable\n",
    "np.random.seed(8)\n",
    "#Initializing K\n",
    "K = 4\n",
    "#Keeping only necessary columns\n",
    "df_test = df[[\"income\",\"ln_income\",\"mean_income\",\"gini\",\"c_parent\",\"ln_mean_income\"]].copy()\n",
    "#Sampling the Dataset\n",
    "df_test = df_test.sample(frac=1)\n",
    "indexes = np.array_split(list(df_test.index),K)\n",
    "\n",
    "#Initializing our scores array that will contain all result variables\n",
    "scores = []\n",
    "x=0\n",
    "\n",
    "for formula in tqdm(formulas,desc='formulas'):\n",
    "    for i in tnrange(K, desc='K'):\n",
    "        #Defining our test and train subsets\n",
    "        test_index  = indexes[i]\n",
    "        train_index = [idx for idx in list(df_test.index) if idx not in test_index]\n",
    "        train = df_test.loc[df_test.index.isin(train_index)]\n",
    "        test  = df_test.loc[~df_test.index.isin(train_index)]\n",
    "        results = smf.ols(formula, train).fit()\n",
    "        #Calculating our probabilities\n",
    "        yhat = results.predict(test)\n",
    "        if (x < 2):\n",
    "            resid_test = yhat - test.income\n",
    "        else:\n",
    "            resid_test = yhat - test.ln_income\n",
    "        x += 1\n",
    "        #Adding the scores to our array\n",
    "        scores.append( { 'model': formula,\n",
    "            'R_squared': results.rsquared,\n",
    "            'Log_Likelihood': results.llf,\n",
    "        #Calculating RMSE\n",
    "            'RMSE_test': RMSE(resid_test),\n",
    "            'RMSE_train': RMSE(results.resid)}             \n",
    "    )\n",
    "#Converting our scores array into a Dataframe    \n",
    "scores = pd.DataFrame(scores)\n",
    "\n",
    "#Selecting average ROC AUC Score and accuracy by model\n",
    "scores = scores.groupby(\"model\").mean().reset_index()\n",
    "\n",
    "#Creating a total error column to order our results\n",
    "scores[\"total_error\"] = scores.RMSE_test + scores.RMSE_train\n",
    "\n",
    "#Ordering our results starting with the one with the smallest average error\n",
    "scores.sort_values(by=\"total_error\", inplace=True)\n",
    "\n",
    "scores"
   ]
  },
  {
   "cell_type": "markdown",
   "id": "84ce3b7a",
   "metadata": {},
   "source": [
    "Clearly, **ln(income) ~ ln(mean_income) + gini + c_parent is our best model**. It has the lowest total RMSE error and Log Likelihood and the highest R² of all 4 models tested here.\n",
    "\n",
    "## 5. Verifying researcher facts and predicting income\n",
    "\n",
    "We have selected the ln_income ~ ln_mean_income + fini + c_parent model in the previous section.\n",
    "Let's use this model to answer some questions found in research papers.\n",
    "\n",
    "### 5.1 Research facts \n",
    "\n",
    "#### 5.1.1 Are there more people disadvantaged by living in an unequal country than people who benefit?\n",
    "\n",
    "To answer this question, we will look at the coefficient of the gini index that we will find in the results summary of our best model :"
   ]
  },
  {
   "cell_type": "code",
   "execution_count": 28,
   "id": "4adff031",
   "metadata": {},
   "outputs": [
    {
     "data": {
      "text/html": [
       "<table class=\"simpletable\">\n",
       "<caption>OLS Regression Results</caption>\n",
       "<tr>\n",
       "  <th>Dep. Variable:</th>        <td>ln_income</td>    <th>  R-squared:         </th>  <td>   0.778</td>  \n",
       "</tr>\n",
       "<tr>\n",
       "  <th>Model:</th>                   <td>OLS</td>       <th>  Adj. R-squared:    </th>  <td>   0.778</td>  \n",
       "</tr>\n",
       "<tr>\n",
       "  <th>Method:</th>             <td>Least Squares</td>  <th>  F-statistic:       </th>  <td>4.555e+06</td> \n",
       "</tr>\n",
       "<tr>\n",
       "  <th>Date:</th>             <td>Thu, 01 Sep 2022</td> <th>  Prob (F-statistic):</th>   <td>  0.00</td>   \n",
       "</tr>\n",
       "<tr>\n",
       "  <th>Time:</th>                 <td>20:36:39</td>     <th>  Log-Likelihood:    </th> <td>-3.9247e+06</td>\n",
       "</tr>\n",
       "<tr>\n",
       "  <th>No. Observations:</th>      <td>3900000</td>     <th>  AIC:               </th>  <td>7.849e+06</td> \n",
       "</tr>\n",
       "<tr>\n",
       "  <th>Df Residuals:</th>          <td>3899996</td>     <th>  BIC:               </th>  <td>7.849e+06</td> \n",
       "</tr>\n",
       "<tr>\n",
       "  <th>Df Model:</th>              <td>     3</td>      <th>                     </th>      <td> </td>     \n",
       "</tr>\n",
       "<tr>\n",
       "  <th>Covariance Type:</th>      <td>nonrobust</td>    <th>                     </th>      <td> </td>     \n",
       "</tr>\n",
       "</table>\n",
       "<table class=\"simpletable\">\n",
       "<tr>\n",
       "         <td></td>           <th>coef</th>     <th>std err</th>      <th>t</th>      <th>P>|t|</th>  <th>[0.025</th>    <th>0.975]</th>  \n",
       "</tr>\n",
       "<tr>\n",
       "  <th>Intercept</th>      <td>   -0.0345</td> <td>    0.004</td> <td>   -9.744</td> <td> 0.000</td> <td>   -0.041</td> <td>   -0.028</td>\n",
       "</tr>\n",
       "<tr>\n",
       "  <th>ln_mean_income</th> <td>    0.9881</td> <td>    0.000</td> <td> 3151.957</td> <td> 0.000</td> <td>    0.988</td> <td>    0.989</td>\n",
       "</tr>\n",
       "<tr>\n",
       "  <th>gini</th>           <td>   -0.0181</td> <td> 4.07e-05</td> <td> -443.444</td> <td> 0.000</td> <td>   -0.018</td> <td>   -0.018</td>\n",
       "</tr>\n",
       "<tr>\n",
       "  <th>c_parent</th>       <td>    0.0108</td> <td> 1.16e-05</td> <td>  927.978</td> <td> 0.000</td> <td>    0.011</td> <td>    0.011</td>\n",
       "</tr>\n",
       "</table>\n",
       "<table class=\"simpletable\">\n",
       "<tr>\n",
       "  <th>Omnibus:</th>       <td>164654.325</td> <th>  Durbin-Watson:     </th>  <td>   0.006</td> \n",
       "</tr>\n",
       "<tr>\n",
       "  <th>Prob(Omnibus):</th>   <td> 0.000</td>   <th>  Jarque-Bera (JB):  </th> <td>546373.016</td>\n",
       "</tr>\n",
       "<tr>\n",
       "  <th>Skew:</th>            <td>-0.053</td>   <th>  Prob(JB):          </th>  <td>    0.00</td> \n",
       "</tr>\n",
       "<tr>\n",
       "  <th>Kurtosis:</th>        <td> 4.831</td>   <th>  Cond. No.          </th>  <td>    723.</td> \n",
       "</tr>\n",
       "</table><br/><br/>Notes:<br/>[1] Standard Errors assume that the covariance matrix of the errors is correctly specified."
      ],
      "text/plain": [
       "<class 'statsmodels.iolib.summary.Summary'>\n",
       "\"\"\"\n",
       "                            OLS Regression Results                            \n",
       "==============================================================================\n",
       "Dep. Variable:              ln_income   R-squared:                       0.778\n",
       "Model:                            OLS   Adj. R-squared:                  0.778\n",
       "Method:                 Least Squares   F-statistic:                 4.555e+06\n",
       "Date:                Thu, 01 Sep 2022   Prob (F-statistic):               0.00\n",
       "Time:                        20:36:39   Log-Likelihood:            -3.9247e+06\n",
       "No. Observations:             3900000   AIC:                         7.849e+06\n",
       "Df Residuals:                 3899996   BIC:                         7.849e+06\n",
       "Df Model:                           3                                         \n",
       "Covariance Type:            nonrobust                                         \n",
       "==================================================================================\n",
       "                     coef    std err          t      P>|t|      [0.025      0.975]\n",
       "----------------------------------------------------------------------------------\n",
       "Intercept         -0.0345      0.004     -9.744      0.000      -0.041      -0.028\n",
       "ln_mean_income     0.9881      0.000   3151.957      0.000       0.988       0.989\n",
       "gini              -0.0181   4.07e-05   -443.444      0.000      -0.018      -0.018\n",
       "c_parent           0.0108   1.16e-05    927.978      0.000       0.011       0.011\n",
       "==============================================================================\n",
       "Omnibus:                   164654.325   Durbin-Watson:                   0.006\n",
       "Prob(Omnibus):                  0.000   Jarque-Bera (JB):           546373.016\n",
       "Skew:                          -0.053   Prob(JB):                         0.00\n",
       "Kurtosis:                       4.831   Cond. No.                         723.\n",
       "==============================================================================\n",
       "\n",
       "Notes:\n",
       "[1] Standard Errors assume that the covariance matrix of the errors is correctly specified.\n",
       "\"\"\""
      ]
     },
     "execution_count": 28,
     "metadata": {},
     "output_type": "execute_result"
    }
   ],
   "source": [
    "import statsmodels.formula.api as smf\n",
    "best_model = smf.ols('ln_income ~ ln_mean_income + gini + c_parent', df).fit()\n",
    "\n",
    "best_model.summary()"
   ]
  },
  {
   "cell_type": "markdown",
   "id": "79b0ed08",
   "metadata": {},
   "source": [
    "The linear coefficient of the gini index is **negative**. This shows that on average, **the higher the index is**, the lower the logarithm of the income (and so **the lower the income**).\n",
    "\n",
    "This proves that there are more people disadvantaged from living in an unequal country than people who benefit from it.\n",
    "\n",
    "#### 5.1.2 Analysis of the decomposition of the explained variance\n",
    "\n",
    "In both ANOVA and Linear Regression methods, the explained variance is calculated by the ETA² (ANOVA) and R² (LR) coefficients.\n",
    "\n",
    "Let's analyse those factors for all of our models in order to analyze their influence on explained variance."
   ]
  },
  {
   "cell_type": "code",
   "execution_count": 29,
   "id": "ab64152f",
   "metadata": {},
   "outputs": [
    {
     "data": {
      "text/html": [
       "<div>\n",
       "<style scoped>\n",
       "    .dataframe tbody tr th:only-of-type {\n",
       "        vertical-align: middle;\n",
       "    }\n",
       "\n",
       "    .dataframe tbody tr th {\n",
       "        vertical-align: top;\n",
       "    }\n",
       "\n",
       "    .dataframe thead th {\n",
       "        text-align: right;\n",
       "    }\n",
       "</style>\n",
       "<table border=\"1\" class=\"dataframe\">\n",
       "  <thead>\n",
       "    <tr style=\"text-align: right;\">\n",
       "      <th></th>\n",
       "      <th>model</th>\n",
       "      <th>R²</th>\n",
       "    </tr>\n",
       "  </thead>\n",
       "  <tbody>\n",
       "    <tr>\n",
       "      <th>0</th>\n",
       "      <td>income ~ mean_income + gini</td>\n",
       "      <td>0.477937</td>\n",
       "    </tr>\n",
       "    <tr>\n",
       "      <th>1</th>\n",
       "      <td>income ~ mean_income + gini + c_parent</td>\n",
       "      <td>0.504482</td>\n",
       "    </tr>\n",
       "    <tr>\n",
       "      <th>2</th>\n",
       "      <td>ln_income ~ ln_mean_income + gini</td>\n",
       "      <td>0.728943</td>\n",
       "    </tr>\n",
       "    <tr>\n",
       "      <th>3</th>\n",
       "      <td>ln_income ~ ln_mean_income + gini + c_parent</td>\n",
       "      <td>0.777969</td>\n",
       "    </tr>\n",
       "  </tbody>\n",
       "</table>\n",
       "</div>"
      ],
      "text/plain": [
       "                                          model        R²\n",
       "0                   income ~ mean_income + gini  0.477937\n",
       "1        income ~ mean_income + gini + c_parent  0.504482\n",
       "2             ln_income ~ ln_mean_income + gini  0.728943\n",
       "3  ln_income ~ ln_mean_income + gini + c_parent  0.777969"
      ]
     },
     "execution_count": 29,
     "metadata": {},
     "output_type": "execute_result"
    }
   ],
   "source": [
    "#Defining the formulas\n",
    "formulas = ['income ~ mean_income + gini',\n",
    "            'income ~ mean_income + gini + c_parent',\n",
    "            'ln_income ~ ln_mean_income + gini',\n",
    "            'ln_income ~ ln_mean_income + gini + c_parent']\n",
    "\n",
    "variance_test = []\n",
    "\n",
    "for f in formulas:\n",
    "    results = smf.ols(f, df).fit()\n",
    "    variance_test.append({\n",
    "        'model': f,\n",
    "        'R²': results.rsquared})\n",
    "\n",
    "variance = pd.DataFrame(variance_test)\n",
    "\n",
    "variance"
   ]
  },
  {
   "cell_type": "markdown",
   "id": "a3238976",
   "metadata": {},
   "source": [
    "If we take only into account the logarithmic formulas, it seems that our researcher is wrong.\n",
    "\n",
    "The **country variables (mean income and gini) explains 73% of the total variance** while the **country and the parent explain 78% of the total variance**.\n",
    "\n",
    "**22% of the variance is explained by other factors.**"
   ]
  },
  {
   "cell_type": "markdown",
   "id": "56107239",
   "metadata": {},
   "source": [
    "### 5.2 Predicting an income\n",
    "\n",
    "First we are asked if the model is worth using, and here I would say that it is a good model since it explains a 78% of the total variance. Of course our model cannot be a crystal ball telling us the future, but it is already pretty good at giving a general idea of the average child income.\n",
    "\n",
    "We will test the model on Mark, our manager, and we will assume he is from the UK.\n",
    "\n",
    "#### 5.2.1 Predicting Mark's income"
   ]
  },
  {
   "cell_type": "code",
   "execution_count": 30,
   "id": "ba11c615",
   "metadata": {},
   "outputs": [
    {
     "name": "stdout",
     "output_type": "stream",
     "text": [
      "20050.646458869818\n"
     ]
    }
   ],
   "source": [
    "#Mark's parents are from the UK, and the have the same income as the mean_income, let's retrieve UK data\n",
    "X = df[df.country_code==\"GBR\"].copy()\n",
    "\n",
    "salary = X.mean_income.max()\n",
    "\n",
    "X[X.income > salary]\n",
    "#The income of the 64th percentile is 21710 and the mean_income is 21709 so we can assume that Mark's parents are within the 64th percentile.\n",
    "\n",
    "#Generating a dataframe with only Mark's parents\n",
    "mark_parent = pd.DataFrame({'c_parent':64, 'ln_mean_income': X.ln_mean_income.max(), 'gini': X.gini.max()}, index = range(1))\n",
    "\n",
    "#Predicting Mark's income\n",
    "predicted_mark_income = np.exp(best_model.predict(mark_parent))\n",
    "\n",
    "print(predicted_mark_income.values[0])"
   ]
  },
  {
   "cell_type": "markdown",
   "id": "304e8220",
   "metadata": {},
   "source": [
    "The model predicts that Mark should have an income of 20053 $PPP, the PPP conversion rate for the UK in 2021 is 0.693 so his salary in pounds should be **13896 GBP**\n",
    "\n",
    "Disclaimer : Our model is based on 2008 data, so it cannot reliably predict Mark's current income. If we take an annual wage growth of 2.5 percent (in line with the data presented here https://www.ons.gov.uk/economy/grossdomesticproductgdp/timeseries/kgq2/qna), it gives us an income in 2021 of :"
   ]
  },
  {
   "cell_type": "code",
   "execution_count": 31,
   "id": "f565621b",
   "metadata": {},
   "outputs": [
    {
     "name": "stdout",
     "output_type": "stream",
     "text": [
      "Predicted Mark Income in 2021 is : 19154 GBP\n"
     ]
    }
   ],
   "source": [
    "current_mark_income = predicted_mark_income * 0.693 * (1.025)**13\n",
    "\n",
    "print(\"Predicted Mark Income in 2021 is :\" ,int(current_mark_income.values[0]),\"GBP\")"
   ]
  }
 ],
 "metadata": {
  "kernelspec": {
   "display_name": "Python 3 (ipykernel)",
   "language": "python",
   "name": "python3"
  },
  "language_info": {
   "codemirror_mode": {
    "name": "ipython",
    "version": 3
   },
   "file_extension": ".py",
   "mimetype": "text/x-python",
   "name": "python",
   "nbconvert_exporter": "python",
   "pygments_lexer": "ipython3",
   "version": "3.9.12"
  },
  "toc": {
   "base_numbering": 1,
   "nav_menu": {},
   "number_sections": false,
   "sideBar": true,
   "skip_h1_title": false,
   "title_cell": "Table of Contents",
   "title_sidebar": "Contents",
   "toc_cell": false,
   "toc_position": {
    "height": "757px",
    "left": "22px",
    "top": "111.125px",
    "width": "316.997px"
   },
   "toc_section_display": true,
   "toc_window_display": true
  }
 },
 "nbformat": 4,
 "nbformat_minor": 5
}
